{
 "cells": [
  {
   "cell_type": "markdown",
   "id": "d6d17174",
   "metadata": {
    "id": "d6d17174"
   },
   "source": [
    "# <font color = darkblue size=50px> Open Data Lab"
   ]
  },
  {
   "cell_type": "markdown",
   "id": "60bf4d5d",
   "metadata": {
    "id": "60bf4d5d"
   },
   "source": [
    "# <font color = darkblue> Government College Kasaragod"
   ]
  },
  {
   "cell_type": "markdown",
   "id": "4d195e79",
   "metadata": {
    "id": "4d195e79"
   },
   "source": [
    "## <font color=magenta> Session - 4 Introduction to Data Visualisation"
   ]
  },
  {
   "cell_type": "markdown",
   "id": "4ba689e0",
   "metadata": {
    "id": "4ba689e0"
   },
   "source": [
    "---"
   ]
  },
  {
   "cell_type": "code",
   "execution_count": null,
   "id": "c9a43117",
   "metadata": {
    "id": "c9a43117"
   },
   "outputs": [],
   "source": [
    "# Importing necessary libraries\n",
    "\n",
    "import numpy as np\n",
    "import pandas as pd\n",
    "\n",
    "#imporing visualisation libraries\n",
    "\n",
    "import matplotlib.pyplot as plt\n",
    "import seaborn as sns"
   ]
  },
  {
   "cell_type": "markdown",
   "id": "1659c707",
   "metadata": {
    "id": "1659c707"
   },
   "source": [
    "## <font color = green> Line Plot\n",
    "* Line chart represents the data in a series (in continuation) showing the frequency of data along with the number line.\n",
    "* Used to compare numerical sets of values"
   ]
  },
  {
   "cell_type": "code",
   "execution_count": null,
   "id": "2c86f248",
   "metadata": {
    "id": "2c86f248"
   },
   "outputs": [],
   "source": [
    "x = [1, 2, 3, 4, 5]\n",
    "y = x\n",
    "plt.plot(x, y) #function to plot the graph\n",
    "plt.show() #function to diaplay the graph"
   ]
  },
  {
   "cell_type": "markdown",
   "id": "6706f788",
   "metadata": {},
   "source": [
    "### <font color = green> Let's make it much easier to interpret"
   ]
  },
  {
   "cell_type": "code",
   "execution_count": null,
   "id": "aeeed13e",
   "metadata": {},
   "outputs": [],
   "source": [
    "plt.figure(figsize=(10,6)) # declaring size of the image\n",
    "\n",
    "x = [1, 2, 3, 4, 5]\n",
    "\n",
    "y = x\n",
    "\n",
    "plt.plot(x, y) #function to plot the graph\n",
    "\n",
    "plt.xlabel('x-values') # labeling x-axis\n",
    "plt.ylabel('y-values') # labeling y-axis\n",
    "\n",
    "plt.title('Line plot') #giving a plot title\n",
    "\n",
    "plt.grid() # to enable grid\n",
    "\n",
    "plt.show() #function to diaplay the graph"
   ]
  },
  {
   "cell_type": "markdown",
   "id": "71a2cd6d",
   "metadata": {},
   "source": [
    "#### To add more than one line to our plot"
   ]
  },
  {
   "cell_type": "code",
   "execution_count": null,
   "id": "221c8322",
   "metadata": {},
   "outputs": [],
   "source": [
    "plt.figure(figsize=(10,6)) \n",
    "\n",
    "x = [1, 2, 3, 4, 5]\n",
    "\n",
    "y = x\n",
    "z = [4, 1.5, 4.5, 5, 3]\n",
    "\n",
    "plt.plot(x, y, color='red', label='x=y') #color argument is used to specify the color of line\n",
    "plt.plot(x, z, linestyle='dashed', label='trend') # line style is specified\n",
    "\n",
    "plt.xlabel('x-values') \n",
    "plt.ylabel('y-values') \n",
    "\n",
    "plt.title('Multiple Line Plots', color='green', fontweight='bold', size=15) \n",
    "\n",
    "plt.grid() \n",
    "plt.legend()\n",
    "plt.show()"
   ]
  },
  {
   "cell_type": "markdown",
   "id": "9b2ca3b4",
   "metadata": {},
   "source": [
    "### <font color = green> Subplots"
   ]
  },
  {
   "cell_type": "markdown",
   "id": "e0fde0f4",
   "metadata": {},
   "source": [
    "For creating separate (multiple) plots in the same figure.<br>\n",
    "<font color=magenta>plt.subplots(num_rows, num_cols, index_no.)"
   ]
  },
  {
   "cell_type": "code",
   "execution_count": null,
   "id": "3b0b917a",
   "metadata": {},
   "outputs": [],
   "source": [
    "plt.figure(figsize=(15,5)) \n",
    "\n",
    "x = np.linspace(0,20,400)\n",
    "y = np.sin(x)\n",
    "z = np.cos(x)\n",
    "\n",
    "plt.subplot(1,2,1)\n",
    "plt.plot(x, y, color='red', label='sine') #color argument is used to specify the color of line\n",
    "plt.xlabel('x') \n",
    "plt.ylabel('sin(x)') \n",
    "plt.title('sine function', color='green', fontweight='bold', size=12) \n",
    "\n",
    "plt.subplot(1,2,2)\n",
    "plt.plot(x, z, linestyle='dashed', label='cosine') # line style is specified\n",
    "plt.xlabel('x') \n",
    "plt.ylabel('cos(x)') \n",
    "plt.title('cosine function', color='green', fontweight='bold', size=12) \n",
    "\n",
    "plt.tight_layout #to adjust the subplot parameters automatically\n",
    "plt.show()"
   ]
  },
  {
   "cell_type": "markdown",
   "id": "caf00fb0",
   "metadata": {},
   "source": [
    "## <font color = green> Bar Plot\n",
    "* Used to compare numerical data over some categories/groups. "
   ]
  },
  {
   "cell_type": "code",
   "execution_count": null,
   "id": "1ad51475",
   "metadata": {},
   "outputs": [],
   "source": [
    "# lets load a dataset firt\n",
    "data = pd.read_csv('IRIS.csv')\n",
    "data.head()"
   ]
  },
  {
   "cell_type": "code",
   "execution_count": null,
   "id": "49fb74da",
   "metadata": {},
   "outputs": [],
   "source": [
    "# lets plot a bar graph\n",
    "\n",
    "plt.figure(figsize=(8,5))\n",
    "n = data['species'].value_counts() # to find count of each unique category\n",
    "species = n.index # to get the name of species\n",
    "count = n.values # to get the corresponding frequency\n",
    "plt.bar(species, count, color = 'lightgreen')\n",
    "plt.xlabel('species')\n",
    "plt.ylabel('count')\n",
    "plt.title('IRIS species count')\n",
    "plt.show()"
   ]
  },
  {
   "cell_type": "code",
   "execution_count": null,
   "id": "f44b601f",
   "metadata": {},
   "outputs": [],
   "source": [
    "# using seaborn\n",
    "\n",
    "plt.figure(figsize=(8,5))\n",
    "n = data['species'].value_counts() \n",
    "species = n.index \n",
    "count = n.values\n",
    "sns.barplot(x = species, y=count)\n",
    "plt.title('IRIS species count')\n",
    "plt.show()"
   ]
  },
  {
   "cell_type": "markdown",
   "id": "b6d04be8",
   "metadata": {},
   "source": [
    "## <font color=green> Countplot\n",
    "    Used to Show the counts of observations in each categorical bin using bars"
   ]
  },
  {
   "cell_type": "code",
   "execution_count": null,
   "id": "305d9030",
   "metadata": {},
   "outputs": [],
   "source": [
    "plt.figure(figsize=(8,5))\n",
    "sns.countplot(x=data['species'])\n",
    "plt.title('IRIS species count')\n",
    "plt.show()"
   ]
  },
  {
   "cell_type": "markdown",
   "id": "bdb7a661",
   "metadata": {},
   "source": [
    "## <font color = green> Histograms\n",
    "    Used for the representation of frequency distribution (or we can say probability distribution) of the data. <br>\n",
    "    we can define **bins** for the plot (i.e. breaking down the entire range of values into a series of intervals and calculating the count of values falling in each interval)"
   ]
  },
  {
   "cell_type": "code",
   "execution_count": null,
   "id": "853b5e4d",
   "metadata": {},
   "outputs": [],
   "source": [
    "random = np.random.randn(1000) #Return a sample (or samples) from the “standard normal” distribution.\n",
    "plt.figure(figsize=(8,5))\n",
    "plt.hist(random, bins = 40, color='lightgreen')\n",
    "plt.grid()\n",
    "plt.xlabel('points')\n",
    "plt.title(\"Histogram\")\n",
    "plt.show()"
   ]
  },
  {
   "cell_type": "code",
   "execution_count": null,
   "id": "0ab408a3",
   "metadata": {},
   "outputs": [],
   "source": [
    "plt.figure(figsize=(8,5))\n",
    "sns.histplot(data=random, bins=40, kde=True)\n",
    "plt.title(\"Histogram\", fontsize=16)\n",
    "plt.show()"
   ]
  },
  {
   "cell_type": "code",
   "execution_count": null,
   "id": "07d2898f",
   "metadata": {},
   "outputs": [],
   "source": [
    "# more attributes of Seaborn histogram\n",
    "plt.figure(figsize=(8,5))\n",
    "sns.histplot(data=data, x='petal_width', hue='species', kde=True, bins=30)\n",
    "plt.title(\"Histogram\", fontsize=16)\n",
    "plt.show()"
   ]
  },
  {
   "cell_type": "markdown",
   "id": "1021aa94",
   "metadata": {},
   "source": [
    "## <font color = green> Pie chart\n",
    "    To compare numerical data against a category just like a bar plot  <br>\n",
    "    Helps us to compare data as a fraction of the whole (percentages rather than raw numbers)"
   ]
  },
  {
   "cell_type": "code",
   "execution_count": null,
   "id": "a1187669",
   "metadata": {},
   "outputs": [],
   "source": [
    "n = data['species'].value_counts()\n",
    "species = n.index\n",
    "count = n.values\n",
    "colors= ['lightblue','lightgreen','gold']\n",
    "\n",
    "plt.figure(figsize=(8,5))\n",
    "plt.pie(count, labels=species,shadow=True,\n",
    "        colors=colors, autopct='%1.2f%%')\n",
    "plt.xlabel('species')\n",
    "plt.show()"
   ]
  },
  {
   "cell_type": "markdown",
   "id": "2bdfb215",
   "metadata": {},
   "source": [
    "## <font color=green> Scatter Plots\n",
    "    It is basically an X, Y coordinate plot i.e. between two numerical data columns"
   ]
  },
  {
   "cell_type": "code",
   "execution_count": null,
   "id": "ee9a9294",
   "metadata": {},
   "outputs": [],
   "source": [
    "plt.figure(figsize=(8,5))\n",
    "plt.scatter(data['petal_length'],data['petal_width'],c='r', s=10, marker='^')\n",
    "plt.xlabel('Sepal length')\n",
    "plt.ylabel('Sepal width')\n",
    "plt.title('Scatter plot on Iris dataset')\n",
    "plt.show()"
   ]
  },
  {
   "cell_type": "code",
   "execution_count": null,
   "id": "5cd3af57",
   "metadata": {},
   "outputs": [],
   "source": [
    "#using seaborn\n",
    "\n",
    "plt.figure(figsize=(8,5))\n",
    "sns.scatterplot(data=data, x='petal_length', y='petal_width', hue='species')\n",
    "plt.show()"
   ]
  },
  {
   "cell_type": "markdown",
   "id": "d69855fb",
   "metadata": {},
   "source": [
    "## <font color=green> Pair plot\n",
    "* A unique kind of plot available in the seaborn library\n",
    "* This plots a pairwise relationship in datasets (in a single figure)"
   ]
  },
  {
   "cell_type": "code",
   "execution_count": null,
   "id": "0be0f65e",
   "metadata": {},
   "outputs": [],
   "source": [
    "sns.set_style(\"whitegrid\");\n",
    "sns.pairplot(data, hue=\"species\", height=3);\n",
    "plt.show()"
   ]
  },
  {
   "cell_type": "markdown",
   "id": "a67d1f31",
   "metadata": {},
   "source": [
    "## <font color = green> Box Plots\n",
    "* Compare the values by plotting the distribution of data based on the sample minimum, the lower quartile, the median, the upper quartile, and the sample maximum\n",
    "* Help us analyze the data to find the **outliers** and the variation in the data"
   ]
  },
  {
   "cell_type": "code",
   "execution_count": null,
   "id": "95218caa",
   "metadata": {},
   "outputs": [],
   "source": [
    "l_w = data.drop('species', axis=1) #excluding species column\n",
    "plt.figure(figsize=(12,8))\n",
    "plt.boxplot(l_w, labels=l_w.columns)\n",
    "plt.xlabel('Flower measurements', fontsize=15)\n",
    "plt.ylabel('values', fontsize=15)\n",
    "plt.title(\"Iris dataset analysis\", color='red', fontsize=24)\n",
    "plt.show()"
   ]
  },
  {
   "cell_type": "code",
   "execution_count": null,
   "id": "beebcdfd",
   "metadata": {},
   "outputs": [],
   "source": [
    "plt.figure(figsize=(12,10))\n",
    "sns.boxplot(data=l_w)\n",
    "plt.xlabel('Flower measurements', fontsize=15)\n",
    "plt.ylabel('values', fontsize=15)\n",
    "plt.title(\"Iris dataset analysis\", color='red', fontsize=24)\n",
    "plt.show()"
   ]
  },
  {
   "cell_type": "markdown",
   "id": "521db9e6",
   "metadata": {},
   "source": [
    "## <font color=green> Heat Map\n",
    "    Used to represent categorical data in the form of ‘color-coded image plot’(values in the data are represented as colors) to find the correlation of the features in data (cluster analysis)"
   ]
  },
  {
   "cell_type": "code",
   "execution_count": null,
   "id": "b2d4d269",
   "metadata": {},
   "outputs": [],
   "source": [
    "plt.figure(figsize=(12,10))\n",
    "sns.heatmap(data.corr(), annot=True) #data.corr gives the correlation between features in the dataset. \n",
    "                                      #annot=True is used show annotation inside the matrix  \n",
    "plt.show()"
   ]
  },
  {
   "cell_type": "markdown",
   "id": "434476ce",
   "metadata": {},
   "source": [
    "## <font color = green> To save a plot"
   ]
  },
  {
   "cell_type": "code",
   "execution_count": null,
   "id": "1f5e5a5d",
   "metadata": {},
   "outputs": [],
   "source": [
    "plt.figure(figsize=(12,10))\n",
    "sns.heatmap(data.corr(), annot=True) \n",
    "plt.savefig('sample.jpg')"
   ]
  },
  {
   "cell_type": "code",
   "execution_count": null,
   "id": "6ce84306",
   "metadata": {},
   "outputs": [],
   "source": []
  }
 ],
 "metadata": {
  "colab": {
   "provenance": []
  },
  "kernelspec": {
   "display_name": "Python 3 (ipykernel)",
   "language": "python",
   "name": "python3"
  },
  "language_info": {
   "codemirror_mode": {
    "name": "ipython",
    "version": 3
   },
   "file_extension": ".py",
   "mimetype": "text/x-python",
   "name": "python",
   "nbconvert_exporter": "python",
   "pygments_lexer": "ipython3",
   "version": "3.9.7"
  }
 },
 "nbformat": 4,
 "nbformat_minor": 5
}
