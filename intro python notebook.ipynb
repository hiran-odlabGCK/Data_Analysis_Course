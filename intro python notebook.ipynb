{
 "cells": [
  {
   "cell_type": "markdown",
   "id": "2b0d871b",
   "metadata": {},
   "source": [
    "# <font color=darkblue size=50px> **Open Data Lab - GCK** "
   ]
  },
  {
   "cell_type": "markdown",
   "id": "8cd3c571",
   "metadata": {},
   "source": [
    "## <font color=red> _Micro-course in Data Analysis - Session 2_"
   ]
  },
  {
   "cell_type": "markdown",
   "id": "fe80fe6e",
   "metadata": {},
   "source": [
    "### Introduction to Python"
   ]
  },
  {
   "cell_type": "markdown",
   "id": "2c96485d",
   "metadata": {},
   "source": [
    "***"
   ]
  },
  {
   "cell_type": "code",
   "execution_count": null,
   "id": "c2e34972",
   "metadata": {},
   "outputs": [],
   "source": [
    "# running a code\n",
    "\n",
    "3 + 2"
   ]
  },
  {
   "cell_type": "markdown",
   "id": "c1aee917",
   "metadata": {},
   "source": [
    "---"
   ]
  },
  {
   "cell_type": "code",
   "execution_count": null,
   "id": "4a1b4ebd",
   "metadata": {},
   "outputs": [],
   "source": [
    "# running a code eg.2 - print function\n",
    "\n",
    "print('Hello World')"
   ]
  },
  {
   "cell_type": "markdown",
   "id": "2a3e77af",
   "metadata": {},
   "source": [
    "---"
   ]
  },
  {
   "cell_type": "markdown",
   "id": "05bdc58e",
   "metadata": {},
   "source": [
    "###### <font color=green> Input Function"
   ]
  },
  {
   "cell_type": "code",
   "execution_count": null,
   "id": "e2c35ff1",
   "metadata": {},
   "outputs": [],
   "source": [
    "name = input(\"Enter your name: \")\n",
    "print(name)"
   ]
  },
  {
   "cell_type": "code",
   "execution_count": null,
   "id": "84f5adc9",
   "metadata": {},
   "outputs": [],
   "source": [
    "name"
   ]
  },
  {
   "cell_type": "code",
   "execution_count": null,
   "id": "5a73cb30",
   "metadata": {},
   "outputs": [],
   "source": [
    "a = input(\"enter your hobby: \\n\")\n",
    "print(\"Hi\",name,',',a,'is a nice hobby')"
   ]
  },
  {
   "cell_type": "markdown",
   "id": "c0b6d01a",
   "metadata": {},
   "source": [
    "---"
   ]
  },
  {
   "cell_type": "markdown",
   "id": "7b552315",
   "metadata": {},
   "source": [
    "## <font color=green>Data Types"
   ]
  },
  {
   "cell_type": "code",
   "execution_count": null,
   "id": "cc38ec23",
   "metadata": {},
   "outputs": [],
   "source": [
    "type(a)"
   ]
  },
  {
   "cell_type": "code",
   "execution_count": null,
   "id": "839f1fb0",
   "metadata": {},
   "outputs": [],
   "source": [
    "# dynamic data typing\n",
    "\n",
    "a = 21\n",
    "type(a)"
   ]
  },
  {
   "cell_type": "code",
   "execution_count": null,
   "id": "a684efdf",
   "metadata": {},
   "outputs": [],
   "source": [
    "x = 0.22\n",
    "\n",
    "type(x)"
   ]
  },
  {
   "cell_type": "code",
   "execution_count": null,
   "id": "e5ed0d46",
   "metadata": {},
   "outputs": [],
   "source": [
    "y = 2 + 4j\n",
    "\n",
    "type(y)"
   ]
  },
  {
   "cell_type": "code",
   "execution_count": null,
   "id": "31af27f9",
   "metadata": {},
   "outputs": [],
   "source": [
    "b = '21'\n",
    "\n",
    "type(b)"
   ]
  },
  {
   "cell_type": "markdown",
   "id": "47277a58",
   "metadata": {},
   "source": [
    "#### Len function and count function"
   ]
  },
  {
   "cell_type": "code",
   "execution_count": null,
   "id": "8305636f",
   "metadata": {},
   "outputs": [],
   "source": [
    "d = \"Open Data\""
   ]
  },
  {
   "cell_type": "code",
   "execution_count": null,
   "id": "eac1ddfa",
   "metadata": {},
   "outputs": [],
   "source": [
    "# len function\n",
    "\n",
    "len(d)"
   ]
  },
  {
   "cell_type": "code",
   "execution_count": null,
   "id": "d0ba88be",
   "metadata": {},
   "outputs": [],
   "source": [
    "# count function\n",
    "\n",
    "d.count('a')"
   ]
  },
  {
   "cell_type": "markdown",
   "id": "0a7f968f",
   "metadata": {},
   "source": [
    "---"
   ]
  },
  {
   "cell_type": "markdown",
   "id": "01533e27",
   "metadata": {},
   "source": [
    "## <font color=green> List"
   ]
  },
  {
   "cell_type": "code",
   "execution_count": null,
   "id": "98509567",
   "metadata": {},
   "outputs": [],
   "source": [
    "# eg 1\n",
    "\n",
    "l1 = [1, 'data', 0.25, 5+4j]"
   ]
  },
  {
   "cell_type": "code",
   "execution_count": null,
   "id": "61108b25",
   "metadata": {},
   "outputs": [],
   "source": [
    "type(l1)"
   ]
  },
  {
   "cell_type": "markdown",
   "id": "c6c25af5",
   "metadata": {},
   "source": [
    "#### Index"
   ]
  },
  {
   "cell_type": "code",
   "execution_count": null,
   "id": "7c2ed691",
   "metadata": {},
   "outputs": [],
   "source": [
    "l1[0]"
   ]
  },
  {
   "cell_type": "code",
   "execution_count": null,
   "id": "cce15774",
   "metadata": {},
   "outputs": [],
   "source": [
    "l1[2]"
   ]
  },
  {
   "cell_type": "code",
   "execution_count": null,
   "id": "e37eb461",
   "metadata": {},
   "outputs": [],
   "source": [
    "l1[3]"
   ]
  },
  {
   "cell_type": "markdown",
   "id": "8595e01b",
   "metadata": {},
   "source": [
    "#### Negative indexing"
   ]
  },
  {
   "cell_type": "code",
   "execution_count": null,
   "id": "ebb866ec",
   "metadata": {},
   "outputs": [],
   "source": [
    "l1[-1]"
   ]
  },
  {
   "cell_type": "code",
   "execution_count": null,
   "id": "25e90f5a",
   "metadata": {},
   "outputs": [],
   "source": [
    "l1[-3]"
   ]
  },
  {
   "cell_type": "code",
   "execution_count": null,
   "id": "e7ba242c",
   "metadata": {},
   "outputs": [],
   "source": [
    "type(l1[-2])"
   ]
  },
  {
   "cell_type": "markdown",
   "id": "46d557b1",
   "metadata": {},
   "source": [
    "#### Slicing"
   ]
  },
  {
   "cell_type": "code",
   "execution_count": null,
   "id": "02d8c5bf",
   "metadata": {},
   "outputs": [],
   "source": [
    "# lets create another list\n",
    "\n",
    "alpha = ['a','b','c','d','e','f','g','h','c']"
   ]
  },
  {
   "cell_type": "code",
   "execution_count": null,
   "id": "e30f4c85",
   "metadata": {},
   "outputs": [],
   "source": [
    "alpha[1]"
   ]
  },
  {
   "cell_type": "code",
   "execution_count": null,
   "id": "7ee76d74",
   "metadata": {},
   "outputs": [],
   "source": [
    "alpha[4]"
   ]
  },
  {
   "cell_type": "code",
   "execution_count": null,
   "id": "d604ad3e",
   "metadata": {},
   "outputs": [],
   "source": [
    "# lets print specific 4 elements\n",
    "\n",
    "alpha[1:4]"
   ]
  },
  {
   "cell_type": "code",
   "execution_count": null,
   "id": "244028d4",
   "metadata": {},
   "outputs": [],
   "source": [
    "## start stop step\n",
    "\n",
    "alpha[0:8:2]"
   ]
  },
  {
   "cell_type": "code",
   "execution_count": null,
   "id": "c431b1d5",
   "metadata": {},
   "outputs": [],
   "source": [
    "# starting from a specific index\n",
    "\n",
    "alpha[4:]"
   ]
  },
  {
   "cell_type": "code",
   "execution_count": null,
   "id": "23642d57",
   "metadata": {},
   "outputs": [],
   "source": [
    "# upto a specific element\n",
    "\n",
    "alpha[:5]"
   ]
  },
  {
   "cell_type": "markdown",
   "id": "d0cc7303",
   "metadata": {},
   "source": [
    "#### Slicing a string"
   ]
  },
  {
   "cell_type": "code",
   "execution_count": null,
   "id": "935db59e",
   "metadata": {},
   "outputs": [],
   "source": [
    "d"
   ]
  },
  {
   "cell_type": "code",
   "execution_count": null,
   "id": "998e58fe",
   "metadata": {},
   "outputs": [],
   "source": [
    "d[2:7]"
   ]
  },
  {
   "cell_type": "code",
   "execution_count": null,
   "id": "c63a01db",
   "metadata": {},
   "outputs": [],
   "source": [
    "d[:4]"
   ]
  },
  {
   "cell_type": "code",
   "execution_count": null,
   "id": "8ecf21d4",
   "metadata": {},
   "outputs": [],
   "source": [
    "d[5:]"
   ]
  },
  {
   "cell_type": "markdown",
   "id": "bdd61c19",
   "metadata": {},
   "source": [
    "#### List and Count function in list"
   ]
  },
  {
   "cell_type": "code",
   "execution_count": null,
   "id": "c8e00a70",
   "metadata": {},
   "outputs": [],
   "source": [
    "len(alpha)"
   ]
  },
  {
   "cell_type": "code",
   "execution_count": null,
   "id": "1da600b5",
   "metadata": {},
   "outputs": [],
   "source": [
    "alpha.count('c')"
   ]
  },
  {
   "cell_type": "markdown",
   "id": "e991680e",
   "metadata": {},
   "source": [
    "### Replacing an element"
   ]
  },
  {
   "cell_type": "code",
   "execution_count": null,
   "id": "65bd2696",
   "metadata": {},
   "outputs": [],
   "source": [
    "alpha[-1]='i'"
   ]
  },
  {
   "cell_type": "code",
   "execution_count": null,
   "id": "a3acbd69",
   "metadata": {},
   "outputs": [],
   "source": [
    "alpha"
   ]
  },
  {
   "cell_type": "markdown",
   "id": "51b42f52",
   "metadata": {},
   "source": [
    "#### Append Function"
   ]
  },
  {
   "cell_type": "code",
   "execution_count": null,
   "id": "49243a09",
   "metadata": {},
   "outputs": [],
   "source": [
    "alpha.append('k')"
   ]
  },
  {
   "cell_type": "code",
   "execution_count": null,
   "id": "088aaa60",
   "metadata": {},
   "outputs": [],
   "source": [
    "alpha"
   ]
  },
  {
   "cell_type": "markdown",
   "id": "8c3b6146",
   "metadata": {},
   "source": [
    "#### Insert Function\n",
    "\n",
    "To insert an element at a specific index"
   ]
  },
  {
   "cell_type": "code",
   "execution_count": null,
   "id": "29d6a4f8",
   "metadata": {},
   "outputs": [],
   "source": [
    "alpha.insert(9,'j')"
   ]
  },
  {
   "cell_type": "code",
   "execution_count": null,
   "id": "353baa96",
   "metadata": {},
   "outputs": [],
   "source": [
    "alpha"
   ]
  },
  {
   "cell_type": "code",
   "execution_count": null,
   "id": "84c910e5",
   "metadata": {},
   "outputs": [],
   "source": [
    "alpha.insert(3,5)"
   ]
  },
  {
   "cell_type": "code",
   "execution_count": null,
   "id": "7f58fdcb",
   "metadata": {},
   "outputs": [],
   "source": [
    "alpha"
   ]
  },
  {
   "cell_type": "markdown",
   "id": "acbcf880",
   "metadata": {},
   "source": [
    "#### Remove function"
   ]
  },
  {
   "cell_type": "code",
   "execution_count": null,
   "id": "ce9c4bdc",
   "metadata": {},
   "outputs": [],
   "source": [
    "alpha.remove('k')\n",
    "\n",
    "alpha"
   ]
  },
  {
   "cell_type": "markdown",
   "id": "5e0209e8",
   "metadata": {},
   "source": [
    "#### pop function\n",
    "To remove from a specific index"
   ]
  },
  {
   "cell_type": "code",
   "execution_count": null,
   "id": "fcd28f04",
   "metadata": {},
   "outputs": [],
   "source": [
    "alpha.pop(3)\n",
    "\n",
    "alpha"
   ]
  },
  {
   "cell_type": "markdown",
   "id": "06fd7f87",
   "metadata": {},
   "source": [
    "#### Extend a list with another"
   ]
  },
  {
   "cell_type": "code",
   "execution_count": null,
   "id": "1f8e38db",
   "metadata": {},
   "outputs": [],
   "source": [
    "alpha2 = [1,2,3]"
   ]
  },
  {
   "cell_type": "code",
   "execution_count": null,
   "id": "b6049c2a",
   "metadata": {},
   "outputs": [],
   "source": [
    "alpha.extend(alpha2)"
   ]
  },
  {
   "cell_type": "code",
   "execution_count": null,
   "id": "64f51ef6",
   "metadata": {},
   "outputs": [],
   "source": [
    "alpha"
   ]
  },
  {
   "cell_type": "markdown",
   "id": "2203c6ca",
   "metadata": {},
   "source": [
    "---"
   ]
  },
  {
   "cell_type": "markdown",
   "id": "5680d701",
   "metadata": {},
   "source": [
    "## <font color=green> Tuple\n",
    "Sequence of immutable python objects"
   ]
  },
  {
   "cell_type": "code",
   "execution_count": null,
   "id": "7107673f",
   "metadata": {},
   "outputs": [],
   "source": [
    "data = (28, 1.23, 'analysis')\n",
    "\n",
    "type(data)"
   ]
  },
  {
   "cell_type": "code",
   "execution_count": null,
   "id": "122b0af9",
   "metadata": {},
   "outputs": [],
   "source": [
    "d2 = 'G', 'C', 'K'\n",
    "\n",
    "type(d2)"
   ]
  },
  {
   "cell_type": "code",
   "execution_count": null,
   "id": "43e9eee5",
   "metadata": {},
   "outputs": [],
   "source": [
    "d2[1]"
   ]
  },
  {
   "cell_type": "code",
   "execution_count": null,
   "id": "46d3d0a5",
   "metadata": {},
   "outputs": [],
   "source": [
    "d2[-3]"
   ]
  },
  {
   "cell_type": "code",
   "execution_count": null,
   "id": "ab0b6ef2",
   "metadata": {},
   "outputs": [],
   "source": [
    "len(d2)"
   ]
  },
  {
   "cell_type": "code",
   "execution_count": null,
   "id": "c0180388",
   "metadata": {},
   "outputs": [],
   "source": [
    "d2.count('G')"
   ]
  },
  {
   "cell_type": "code",
   "execution_count": null,
   "id": "8a39716f",
   "metadata": {},
   "outputs": [],
   "source": [
    "d2[3] = 'P'"
   ]
  },
  {
   "cell_type": "markdown",
   "id": "19722480",
   "metadata": {},
   "source": [
    "---"
   ]
  },
  {
   "cell_type": "markdown",
   "id": "ba6468f2",
   "metadata": {},
   "source": [
    "## <font color = green > Dictionary"
   ]
  },
  {
   "cell_type": "code",
   "execution_count": null,
   "id": "1d0bbab3",
   "metadata": {},
   "outputs": [],
   "source": [
    "dic = {}"
   ]
  },
  {
   "cell_type": "code",
   "execution_count": null,
   "id": "5b73e54f",
   "metadata": {},
   "outputs": [],
   "source": [
    "type(dic)"
   ]
  },
  {
   "cell_type": "code",
   "execution_count": null,
   "id": "760efc65",
   "metadata": {},
   "outputs": [],
   "source": [
    "detail = {'Name':'Rahul',\n",
    "       'Age':23,\n",
    "       'Height': 176.2}\n",
    "\n",
    "# \"Name\" is a key & \"Rahul\" is the value asssociated with that key\n",
    "# 'Name':'Rahul' constitute a key-value pair"
   ]
  },
  {
   "cell_type": "code",
   "execution_count": null,
   "id": "f7feb995",
   "metadata": {},
   "outputs": [],
   "source": [
    "detail"
   ]
  },
  {
   "cell_type": "code",
   "execution_count": null,
   "id": "d769f40c",
   "metadata": {},
   "outputs": [],
   "source": [
    "type(detail)"
   ]
  },
  {
   "cell_type": "markdown",
   "id": "0d847874",
   "metadata": {},
   "source": [
    "#### To access a key-value pair"
   ]
  },
  {
   "cell_type": "code",
   "execution_count": null,
   "id": "6226bffc",
   "metadata": {},
   "outputs": [],
   "source": [
    "detail['Name']"
   ]
  },
  {
   "cell_type": "code",
   "execution_count": null,
   "id": "f3c36f8b",
   "metadata": {},
   "outputs": [],
   "source": [
    "detail.get('Name')"
   ]
  },
  {
   "cell_type": "markdown",
   "id": "04e8f140",
   "metadata": {},
   "source": [
    "#### To modify value corresponding to  akey-value pair"
   ]
  },
  {
   "cell_type": "code",
   "execution_count": null,
   "id": "97898996",
   "metadata": {},
   "outputs": [],
   "source": [
    "detail['Name'] = 'Rahul S'"
   ]
  },
  {
   "cell_type": "code",
   "execution_count": null,
   "id": "df31cf8f",
   "metadata": {},
   "outputs": [],
   "source": [
    "detail"
   ]
  },
  {
   "cell_type": "markdown",
   "id": "80de29f2",
   "metadata": {},
   "source": [
    "#### To add a key-value pair"
   ]
  },
  {
   "cell_type": "code",
   "execution_count": null,
   "id": "cfa1ed93",
   "metadata": {},
   "outputs": [],
   "source": [
    "detail['place'] = 'Kasargod'"
   ]
  },
  {
   "cell_type": "code",
   "execution_count": null,
   "id": "2b6b4b93",
   "metadata": {},
   "outputs": [],
   "source": [
    "detail"
   ]
  },
  {
   "cell_type": "markdown",
   "id": "aae42d44",
   "metadata": {},
   "source": [
    "#### To delete a particular key-value pair"
   ]
  },
  {
   "cell_type": "code",
   "execution_count": null,
   "id": "62673d36",
   "metadata": {},
   "outputs": [],
   "source": [
    "del detail['Age']"
   ]
  },
  {
   "cell_type": "code",
   "execution_count": null,
   "id": "989d6859",
   "metadata": {},
   "outputs": [],
   "source": [
    "detail"
   ]
  },
  {
   "cell_type": "markdown",
   "id": "61b54fa4",
   "metadata": {},
   "source": [
    "#### To get number of key-value pairs in a dictionary"
   ]
  },
  {
   "cell_type": "code",
   "execution_count": null,
   "id": "c16bf70e",
   "metadata": {},
   "outputs": [],
   "source": [
    "len(detail)"
   ]
  },
  {
   "cell_type": "markdown",
   "id": "76f075e1",
   "metadata": {},
   "source": [
    "#### To create a copy of existing dictionary"
   ]
  },
  {
   "cell_type": "code",
   "execution_count": null,
   "id": "524b909e",
   "metadata": {},
   "outputs": [],
   "source": [
    "data = detail.copy()"
   ]
  },
  {
   "cell_type": "code",
   "execution_count": null,
   "id": "9287e92f",
   "metadata": {},
   "outputs": [],
   "source": [
    "data"
   ]
  },
  {
   "cell_type": "markdown",
   "id": "623e1b5e",
   "metadata": {},
   "source": [
    "---"
   ]
  },
  {
   "cell_type": "markdown",
   "id": "8ebddf77",
   "metadata": {},
   "source": [
    "## <font color = green> Arithmetic Operations"
   ]
  },
  {
   "cell_type": "markdown",
   "id": "06ed9c65",
   "metadata": {},
   "source": [
    "#### Addition"
   ]
  },
  {
   "cell_type": "code",
   "execution_count": null,
   "id": "587026b2",
   "metadata": {},
   "outputs": [],
   "source": [
    "teacher_count = 15\n",
    "student_count = 45\n",
    "\n",
    "teacher_count + student_count"
   ]
  },
  {
   "cell_type": "code",
   "execution_count": null,
   "id": "e6fe8141",
   "metadata": {},
   "outputs": [],
   "source": [
    "print('The total count is',teacher_count + student_count)"
   ]
  },
  {
   "cell_type": "markdown",
   "id": "4a242784",
   "metadata": {},
   "source": [
    "<font color = blue> Same procedure for subtraction, multiplication, division"
   ]
  },
  {
   "cell_type": "code",
   "execution_count": null,
   "id": "31135e43",
   "metadata": {},
   "outputs": [],
   "source": [
    "h = 'Hello '\n",
    "h + h"
   ]
  },
  {
   "cell_type": "code",
   "execution_count": null,
   "id": "81f19bd3",
   "metadata": {},
   "outputs": [],
   "source": [
    "w = 'world'"
   ]
  },
  {
   "cell_type": "code",
   "execution_count": null,
   "id": "92d266c9",
   "metadata": {},
   "outputs": [],
   "source": [
    "p = h + w\n",
    "p"
   ]
  },
  {
   "cell_type": "markdown",
   "id": "b86f05de",
   "metadata": {},
   "source": [
    "#### Multiplication"
   ]
  },
  {
   "cell_type": "code",
   "execution_count": null,
   "id": "4b5c3219",
   "metadata": {},
   "outputs": [],
   "source": [
    "3 * h"
   ]
  },
  {
   "cell_type": "markdown",
   "id": "45481ae0",
   "metadata": {},
   "source": [
    "#### Division"
   ]
  },
  {
   "cell_type": "code",
   "execution_count": null,
   "id": "ea823c02",
   "metadata": {},
   "outputs": [],
   "source": [
    "20/5"
   ]
  },
  {
   "cell_type": "markdown",
   "id": "dbac6bae",
   "metadata": {},
   "source": [
    "<font color = blue> Returns result as float"
   ]
  },
  {
   "cell_type": "markdown",
   "id": "67c86304",
   "metadata": {},
   "source": [
    "#### Floor division"
   ]
  },
  {
   "cell_type": "code",
   "execution_count": null,
   "id": "dec445c4",
   "metadata": {},
   "outputs": [],
   "source": [
    "# lets try a floor division\n",
    "\n",
    "23//6"
   ]
  },
  {
   "cell_type": "code",
   "execution_count": null,
   "id": "451e04f2",
   "metadata": {},
   "outputs": [],
   "source": [
    "23/6"
   ]
  },
  {
   "cell_type": "markdown",
   "id": "3c392096",
   "metadata": {},
   "source": [
    "<font color = blue> Normal division, except returns an integer which is less than or equal to normal division result"
   ]
  },
  {
   "cell_type": "markdown",
   "id": "e8335e7d",
   "metadata": {},
   "source": [
    "#### Modulus Operator"
   ]
  },
  {
   "cell_type": "code",
   "execution_count": null,
   "id": "203a82f9",
   "metadata": {},
   "outputs": [],
   "source": [
    "20 % 3"
   ]
  },
  {
   "cell_type": "code",
   "execution_count": null,
   "id": "73e64c56",
   "metadata": {},
   "outputs": [],
   "source": [
    "21 % 6"
   ]
  },
  {
   "cell_type": "markdown",
   "id": "64510596",
   "metadata": {},
   "source": [
    "<font color = blue> Returns remainder"
   ]
  },
  {
   "cell_type": "markdown",
   "id": "cb8af6e6",
   "metadata": {},
   "source": [
    "---"
   ]
  },
  {
   "cell_type": "markdown",
   "id": "56a8d255",
   "metadata": {},
   "source": [
    "## <font color = green> Relational Operators"
   ]
  },
  {
   "cell_type": "code",
   "execution_count": null,
   "id": "d75292a5",
   "metadata": {},
   "outputs": [],
   "source": [
    "a = 9\n",
    "b = 12"
   ]
  },
  {
   "cell_type": "markdown",
   "id": "4a386b1f",
   "metadata": {},
   "source": [
    "Checking greater than condition:"
   ]
  },
  {
   "cell_type": "code",
   "execution_count": null,
   "id": "f4e8006e",
   "metadata": {},
   "outputs": [],
   "source": [
    "b > a"
   ]
  },
  {
   "cell_type": "markdown",
   "id": "50a21424",
   "metadata": {},
   "source": [
    "Checking less than condition:"
   ]
  },
  {
   "cell_type": "code",
   "execution_count": null,
   "id": "59dac2e7",
   "metadata": {},
   "outputs": [],
   "source": [
    "b < a "
   ]
  },
  {
   "cell_type": "markdown",
   "id": "2304a752",
   "metadata": {},
   "source": [
    "Checking equality condition:"
   ]
  },
  {
   "cell_type": "code",
   "execution_count": null,
   "id": "0abd87f0",
   "metadata": {},
   "outputs": [],
   "source": [
    "a == b"
   ]
  },
  {
   "cell_type": "markdown",
   "id": "5cead4cb",
   "metadata": {},
   "source": [
    "Checking not equal to condition:"
   ]
  },
  {
   "cell_type": "code",
   "execution_count": null,
   "id": "af9e0f09",
   "metadata": {},
   "outputs": [],
   "source": [
    "a != b"
   ]
  },
  {
   "cell_type": "markdown",
   "id": "5c1317f5",
   "metadata": {},
   "source": [
    "---"
   ]
  },
  {
   "cell_type": "markdown",
   "id": "8e711599",
   "metadata": {},
   "source": [
    "## <font color = green> Logical Operators"
   ]
  },
  {
   "cell_type": "markdown",
   "id": "156b2589",
   "metadata": {},
   "source": [
    "#### and"
   ]
  },
  {
   "cell_type": "code",
   "execution_count": null,
   "id": "8cb0226a",
   "metadata": {},
   "outputs": [],
   "source": [
    "a==9 and b>10"
   ]
  },
  {
   "cell_type": "code",
   "execution_count": null,
   "id": "49afeeee",
   "metadata": {},
   "outputs": [],
   "source": [
    "a==9 and b<10"
   ]
  },
  {
   "cell_type": "markdown",
   "id": "5ac3583a",
   "metadata": {},
   "source": [
    "#### or"
   ]
  },
  {
   "cell_type": "code",
   "execution_count": null,
   "id": "8c0bb095",
   "metadata": {},
   "outputs": [],
   "source": [
    "a==9 or b<10"
   ]
  },
  {
   "cell_type": "markdown",
   "id": "6349b183",
   "metadata": {},
   "source": [
    "#### not"
   ]
  },
  {
   "cell_type": "code",
   "execution_count": null,
   "id": "340a1ff9",
   "metadata": {},
   "outputs": [],
   "source": [
    "not b>20"
   ]
  },
  {
   "cell_type": "markdown",
   "id": "6bca367a",
   "metadata": {},
   "source": [
    "if we give incorrect argument after 'not', our result will be True"
   ]
  },
  {
   "cell_type": "markdown",
   "id": "ee2b2d59",
   "metadata": {},
   "source": [
    "---"
   ]
  },
  {
   "cell_type": "markdown",
   "id": "68cefd40",
   "metadata": {},
   "source": [
    "## <font color = green> Identity Operators"
   ]
  },
  {
   "cell_type": "markdown",
   "id": "6249ea5d",
   "metadata": {},
   "source": [
    "#### is"
   ]
  },
  {
   "cell_type": "code",
   "execution_count": null,
   "id": "b55ad749",
   "metadata": {},
   "outputs": [],
   "source": [
    "type(a) is int"
   ]
  },
  {
   "cell_type": "code",
   "execution_count": null,
   "id": "01ab5e2c",
   "metadata": {},
   "outputs": [],
   "source": [
    "type(a) is str"
   ]
  },
  {
   "cell_type": "markdown",
   "id": "8fcdfab5",
   "metadata": {},
   "source": [
    "#### is not"
   ]
  },
  {
   "cell_type": "code",
   "execution_count": null,
   "id": "953dfb82",
   "metadata": {},
   "outputs": [],
   "source": [
    "type(a) is not str"
   ]
  },
  {
   "cell_type": "code",
   "execution_count": null,
   "id": "1de025b7",
   "metadata": {},
   "outputs": [],
   "source": [
    "type(a) is not int"
   ]
  },
  {
   "cell_type": "markdown",
   "id": "1972a8b1",
   "metadata": {},
   "source": [
    "---"
   ]
  },
  {
   "cell_type": "markdown",
   "id": "d122a75e",
   "metadata": {},
   "source": [
    "## <font color = green> Membership Operators"
   ]
  },
  {
   "cell_type": "code",
   "execution_count": null,
   "id": "ff99b6fc",
   "metadata": {},
   "outputs": [],
   "source": [
    "alpha"
   ]
  },
  {
   "cell_type": "code",
   "execution_count": null,
   "id": "1fa64f3d",
   "metadata": {},
   "outputs": [],
   "source": [
    "\"f\" in alpha"
   ]
  },
  {
   "cell_type": "code",
   "execution_count": null,
   "id": "daa3195a",
   "metadata": {},
   "outputs": [],
   "source": [
    "'z' in alpha"
   ]
  },
  {
   "cell_type": "code",
   "execution_count": null,
   "id": "187ab4cf",
   "metadata": {},
   "outputs": [],
   "source": [
    "'x' not in alpha"
   ]
  },
  {
   "cell_type": "code",
   "execution_count": null,
   "id": "a435408a",
   "metadata": {},
   "outputs": [],
   "source": [
    "3 not in alpha"
   ]
  },
  {
   "cell_type": "markdown",
   "id": "fad1b848",
   "metadata": {},
   "source": [
    "---"
   ]
  },
  {
   "cell_type": "markdown",
   "id": "4b30010e",
   "metadata": {},
   "source": [
    "## <font color = green> Assignment Operators"
   ]
  },
  {
   "cell_type": "code",
   "execution_count": null,
   "id": "e6055b12",
   "metadata": {},
   "outputs": [],
   "source": [
    "#eg.1 c+=1 equivalent to c=c+1\n",
    "\n",
    "c = 0\n",
    "c = c + 1\n",
    "print(c)"
   ]
  },
  {
   "cell_type": "code",
   "execution_count": null,
   "id": "01ccc541",
   "metadata": {},
   "outputs": [],
   "source": [
    "c = 0\n",
    "c"
   ]
  },
  {
   "cell_type": "code",
   "execution_count": null,
   "id": "a991d1d8",
   "metadata": {},
   "outputs": [],
   "source": [
    "c+=1\n",
    "print(c)"
   ]
  },
  {
   "cell_type": "markdown",
   "id": "8e316529",
   "metadata": {},
   "source": [
    "Here += first adds the value on its RHS to the value of the cariable in its LHS and then assign the resultant value to that variable itself."
   ]
  },
  {
   "cell_type": "markdown",
   "id": "e8bcea3c",
   "metadata": {},
   "source": [
    "---"
   ]
  },
  {
   "cell_type": "markdown",
   "id": "a4d37847",
   "metadata": {},
   "source": [
    "## <font color = green> Conditional Execution"
   ]
  },
  {
   "cell_type": "markdown",
   "id": "20f58f38",
   "metadata": {},
   "source": [
    "Example 1:"
   ]
  },
  {
   "cell_type": "code",
   "execution_count": null,
   "id": "631ef810",
   "metadata": {},
   "outputs": [],
   "source": [
    "# To check whether a number is even\n",
    "\n",
    "n = int(input('Enter a number: '))\n",
    "if (n % 2 == 0):\n",
    "    print('Even')"
   ]
  },
  {
   "cell_type": "code",
   "execution_count": 1,
   "id": "344c2ea0",
   "metadata": {},
   "outputs": [
    {
     "name": "stdout",
     "output_type": "stream",
     "text": [
      "Enter a number: 3\n",
      "Odd\n"
     ]
    }
   ],
   "source": [
    "# extension of abpove program to print 'odd' otherwise\n",
    "\n",
    "n = int(input('Enter a number: '))\n",
    "if (n % 2 == 0):\n",
    "    print('Even')\n",
    "else:\n",
    "    print('Odd')"
   ]
  },
  {
   "cell_type": "markdown",
   "id": "5c0a3bee",
   "metadata": {},
   "source": [
    "Example 2:"
   ]
  },
  {
   "cell_type": "code",
   "execution_count": 4,
   "id": "60ef8382",
   "metadata": {},
   "outputs": [
    {
     "name": "stdout",
     "output_type": "stream",
     "text": [
      "Enter a number: 3\n",
      "Odd\n"
     ]
    }
   ],
   "source": [
    "# To check whether a number is positive or negative or zero\n",
    "\n",
    "n = int(input('Enter a number: '))\n",
    "if (n == 0):\n",
    "    print('Zero')\n",
    "elif (n % 2 == 0):\n",
    "    print('Even')\n",
    "else:\n",
    "    print('Odd')"
   ]
  },
  {
   "cell_type": "markdown",
   "id": "b0a9d4e3",
   "metadata": {},
   "source": [
    "---"
   ]
  },
  {
   "cell_type": "markdown",
   "id": "d1860dc7",
   "metadata": {},
   "source": [
    "## <font color = green> for loop"
   ]
  },
  {
   "cell_type": "code",
   "execution_count": null,
   "id": "70fb9943",
   "metadata": {},
   "outputs": [],
   "source": [
    "h = 'Hello'\n",
    "for i in h:\n",
    "    print(i)"
   ]
  },
  {
   "cell_type": "code",
   "execution_count": null,
   "id": "8329ffb5",
   "metadata": {},
   "outputs": [],
   "source": [
    "l = ['abc', 123, 4.56]\n",
    "for item in l:\n",
    "    print(item)"
   ]
  },
  {
   "cell_type": "markdown",
   "id": "a6ca828e",
   "metadata": {},
   "source": [
    "Example 1:\n",
    "Program to calculate sum of marks. <br>\n",
    "Q: A student scored 56, 89,67 and 82 marks in four subjects. Write a program using 'for' loop to find his total mark."
   ]
  },
  {
   "cell_type": "code",
   "execution_count": 5,
   "id": "fe748927",
   "metadata": {},
   "outputs": [
    {
     "name": "stdout",
     "output_type": "stream",
     "text": [
      "294\n"
     ]
    }
   ],
   "source": [
    "score = [56, 89, 67, 82]\n",
    "sum = 0\n",
    "for i in score:\n",
    "    sum+=i\n",
    "print(sum)"
   ]
  },
  {
   "cell_type": "code",
   "execution_count": 7,
   "id": "1d37a7ad",
   "metadata": {},
   "outputs": [
    {
     "name": "stdout",
     "output_type": "stream",
     "text": [
      "56\n",
      "145\n",
      "212\n",
      "294\n",
      "Total score is  294\n"
     ]
    }
   ],
   "source": [
    "# how 'for' loop works in above program\n",
    "score = [56, 89, 67, 82]\n",
    "sum = 0\n",
    "for i in score:\n",
    "    sum+=i\n",
    "    print(sum)\n",
    "print('Total score is ',sum)"
   ]
  },
  {
   "cell_type": "markdown",
   "id": "30d1bbf2",
   "metadata": {},
   "source": [
    "---"
   ]
  },
  {
   "cell_type": "markdown",
   "id": "e433e9c9",
   "metadata": {},
   "source": [
    "## <font color = green> while loop"
   ]
  },
  {
   "cell_type": "code",
   "execution_count": 9,
   "id": "dc641d23",
   "metadata": {},
   "outputs": [
    {
     "name": "stdout",
     "output_type": "stream",
     "text": [
      "Enter the limit: 10\n",
      "55\n"
     ]
    }
   ],
   "source": [
    "# Program to find sum of n natural numbers\n",
    "\n",
    "n = int(input('Enter the limit: '))\n",
    "i = 1\n",
    "sum = 0\n",
    "while i <= n:\n",
    "    sum+=i\n",
    "    i+=1\n",
    "print(sum)"
   ]
  },
  {
   "cell_type": "markdown",
   "id": "ef37ff86",
   "metadata": {},
   "source": [
    "---"
   ]
  },
  {
   "cell_type": "markdown",
   "id": "fbfabed7",
   "metadata": {},
   "source": [
    "## <font color = green> break statement"
   ]
  },
  {
   "cell_type": "code",
   "execution_count": null,
   "id": "11abfe71",
   "metadata": {},
   "outputs": [],
   "source": [
    "lang = 'python'\n",
    "for c in lang:\n",
    "    if (c=='h'):\n",
    "        break\n",
    "    print(c)"
   ]
  },
  {
   "cell_type": "markdown",
   "id": "67ab7cd3",
   "metadata": {},
   "source": [
    "## <font color = green> continue statement"
   ]
  },
  {
   "cell_type": "code",
   "execution_count": null,
   "id": "5ef94c06",
   "metadata": {},
   "outputs": [],
   "source": [
    "lang = 'python'\n",
    "for c in lang:\n",
    "    if (c=='h'):\n",
    "        continue\n",
    "    print(c)"
   ]
  },
  {
   "cell_type": "markdown",
   "id": "9fef837b",
   "metadata": {},
   "source": [
    "Example 3:"
   ]
  },
  {
   "cell_type": "code",
   "execution_count": null,
   "id": "7625c4b3",
   "metadata": {},
   "outputs": [],
   "source": [
    "x = 1\n",
    "while x < 10:\n",
    "    if x < 3:\n",
    "        print('skipping', x)\n",
    "        x+=1\n",
    "        continue\n",
    "    print(x)\n",
    "    if x == 4:\n",
    "        print('enough')\n",
    "        break\n",
    "    x+=1\n",
    "print('End')"
   ]
  },
  {
   "cell_type": "markdown",
   "id": "d3a3ea6e",
   "metadata": {},
   "source": [
    "---"
   ]
  },
  {
   "cell_type": "markdown",
   "id": "5f3ae3f1",
   "metadata": {},
   "source": [
    "## <font color = green> Functions"
   ]
  },
  {
   "cell_type": "markdown",
   "id": "4e4c2568",
   "metadata": {},
   "source": [
    "Q: Write a program to print multiplication table of a number given by user"
   ]
  },
  {
   "cell_type": "code",
   "execution_count": 10,
   "id": "71b12232",
   "metadata": {},
   "outputs": [
    {
     "name": "stdout",
     "output_type": "stream",
     "text": [
      "Enter the limit: 5\n",
      "1 x 5 = 5\n",
      "2 x 5 = 10\n",
      "3 x 5 = 15\n",
      "4 x 5 = 20\n",
      "5 x 5 = 25\n",
      "6 x 5 = 30\n",
      "7 x 5 = 35\n",
      "8 x 5 = 40\n",
      "9 x 5 = 45\n",
      "10 x 5 = 50\n"
     ]
    }
   ],
   "source": [
    "# using while loop\n",
    "\n",
    "n = int(input('Enter the limit: '))\n",
    "i = 1\n",
    "while i <= 10:\n",
    "    print(i, 'x', n, '=', i*n)\n",
    "    i+=1"
   ]
  },
  {
   "cell_type": "code",
   "execution_count": 11,
   "id": "7fbb534f",
   "metadata": {},
   "outputs": [
    {
     "name": "stdout",
     "output_type": "stream",
     "text": [
      "Enter the limit: 5\n",
      "1 x 5 = 5\n",
      "2 x 5 = 10\n",
      "3 x 5 = 15\n",
      "4 x 5 = 20\n",
      "5 x 5 = 25\n",
      "6 x 5 = 30\n",
      "7 x 5 = 35\n",
      "8 x 5 = 40\n",
      "9 x 5 = 45\n",
      "10 x 5 = 50\n"
     ]
    }
   ],
   "source": [
    "# using for loop\n",
    "\n",
    "n = int(input('Enter the limit: '))\n",
    "for i in range(1,11):\n",
    "    print(i, 'x', n, '=', i*n)"
   ]
  },
  {
   "cell_type": "markdown",
   "id": "957c4182",
   "metadata": {},
   "source": [
    "Defing a function to print the multiplication table easily"
   ]
  },
  {
   "cell_type": "code",
   "execution_count": 13,
   "id": "24963dde",
   "metadata": {},
   "outputs": [],
   "source": [
    "# defifng the function\n",
    "\n",
    "def multiply(n): # def keyword is used to define a function. 'multiply' is the name of the function defined and it takes only one argumnt n\n",
    "    for i in range(1,11):\n",
    "        print(i, 'x', n, '=', i*n)"
   ]
  },
  {
   "cell_type": "code",
   "execution_count": 14,
   "id": "8a0780e9",
   "metadata": {},
   "outputs": [
    {
     "name": "stdout",
     "output_type": "stream",
     "text": [
      "1 x 7 = 7\n",
      "2 x 7 = 14\n",
      "3 x 7 = 21\n",
      "4 x 7 = 28\n",
      "5 x 7 = 35\n",
      "6 x 7 = 42\n",
      "7 x 7 = 49\n",
      "8 x 7 = 56\n",
      "9 x 7 = 63\n",
      "10 x 7 = 70\n"
     ]
    }
   ],
   "source": [
    "multiply(7) # you can try with a different number"
   ]
  }
 ],
 "metadata": {
  "kernelspec": {
   "display_name": "Python 3 (ipykernel)",
   "language": "python",
   "name": "python3"
  },
  "language_info": {
   "codemirror_mode": {
    "name": "ipython",
    "version": 3
   },
   "file_extension": ".py",
   "mimetype": "text/x-python",
   "name": "python",
   "nbconvert_exporter": "python",
   "pygments_lexer": "ipython3",
   "version": "3.9.13"
  }
 },
 "nbformat": 4,
 "nbformat_minor": 5
}
