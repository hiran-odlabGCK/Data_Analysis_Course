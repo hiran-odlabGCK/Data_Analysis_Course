{
 "cells": [
  {
   "cell_type": "markdown",
   "metadata": {
    "id": "9bFseaadJyWq"
   },
   "source": [
    "# NumPy"
   ]
  },
  {
   "cell_type": "code",
   "execution_count": null,
   "metadata": {
    "id": "a4raJ86rJyWu"
   },
   "outputs": [],
   "source": [
    "import numpy as np"
   ]
  },
  {
   "cell_type": "markdown",
   "metadata": {
    "id": "DC6aV5E7JyWv"
   },
   "source": [
    "# Array\n"
   ]
  },
  {
   "cell_type": "code",
   "execution_count": null,
   "metadata": {
    "colab": {
     "base_uri": "https://localhost:8080/"
    },
    "id": "-AuqsDyLJyWv",
    "outputId": "d39b7460-b321-4129-fdea-dc421b128048"
   },
   "outputs": [],
   "source": [
    "#one D array\n",
    "array= np.array([1,2,3]) \n",
    "print(array)"
   ]
  },
  {
   "cell_type": "code",
   "execution_count": null,
   "metadata": {
    "colab": {
     "base_uri": "https://localhost:8080/"
    },
    "id": "OH-oSdfvJyWw",
    "outputId": "30d83e9a-0d75-4ab3-afe1-8b98b29a0b5f"
   },
   "outputs": [],
   "source": [
    "#2-D array\n",
    "twoD_array = np.array([[1,2,3],[1,4,9]])\n",
    "twoD_array"
   ]
  },
  {
   "cell_type": "code",
   "execution_count": null,
   "metadata": {
    "colab": {
     "base_uri": "https://localhost:8080/"
    },
    "id": "jyTjPKNDJyWw",
    "outputId": "fe4045ad-7c6a-4c76-f8a7-e1569c47eccc"
   },
   "outputs": [],
   "source": [
    "#Muti-dimensional array\n",
    "MultiD_array = np.array([[[1, 2, 3], [4, 5, 6]], [[1, 2, 3], [4, 5, 6]]])\n",
    "print(MultiD_array)\n"
   ]
  },
  {
   "cell_type": "markdown",
   "metadata": {
    "id": "1i5RfPM6JyWx"
   },
   "source": [
    "# Indexing Array"
   ]
  },
  {
   "cell_type": "markdown",
   "metadata": {
    "id": "7t065GZBJyWx"
   },
   "source": [
    "Indexing of One Dimensionl Array"
   ]
  },
  {
   "cell_type": "code",
   "execution_count": null,
   "metadata": {
    "colab": {
     "base_uri": "https://localhost:8080/"
    },
    "id": "3KG11KRcJyWx",
    "outputId": "c6611573-d180-4baf-8f57-d653f1a69c59"
   },
   "outputs": [],
   "source": [
    "array_=np.array([1,2,3,4,5])\n",
    "#getting first element\n",
    "array[0] "
   ]
  },
  {
   "cell_type": "code",
   "execution_count": null,
   "metadata": {
    "colab": {
     "base_uri": "https://localhost:8080/"
    },
    "id": "d3UaqVM8JyWx",
    "outputId": "dcdb48c2-d435-4778-a929-af52d12dc69e"
   },
   "outputs": [],
   "source": [
    "#getting last element\n",
    "array_[-1]"
   ]
  },
  {
   "cell_type": "markdown",
   "metadata": {
    "id": "9BoW-7JQJyWy"
   },
   "source": [
    "Indexing of Two Dimensional Array"
   ]
  },
  {
   "cell_type": "code",
   "execution_count": null,
   "metadata": {
    "colab": {
     "base_uri": "https://localhost:8080/"
    },
    "id": "zy5cPNBiJyWy",
    "outputId": "cd215df6-5dea-469c-93f7-078a9936926d"
   },
   "outputs": [],
   "source": [
    "twoD_array = np.array([[1,2,3],[1,4,9]])\n",
    "twoD_array"
   ]
  },
  {
   "cell_type": "code",
   "execution_count": null,
   "metadata": {
    "colab": {
     "base_uri": "https://localhost:8080/"
    },
    "id": "rqern8hhJyWy",
    "outputId": "8a87cbe6-512e-4469-9892-5ca3423e3cf7"
   },
   "outputs": [],
   "source": [
    "#getting first element\n",
    "twoD_array[0][0] "
   ]
  },
  {
   "cell_type": "code",
   "execution_count": null,
   "metadata": {
    "colab": {
     "base_uri": "https://localhost:8080/"
    },
    "id": "9wSCD-fIJyWz",
    "outputId": "7d43c829-8289-4b47-bb8a-4fe377bb3fd1"
   },
   "outputs": [],
   "source": [
    "#get the last element\n",
    "twoD_array[1][2]"
   ]
  },
  {
   "cell_type": "markdown",
   "metadata": {
    "id": "wuGxX1sLJyWz"
   },
   "source": [
    "# Array Operations"
   ]
  },
  {
   "cell_type": "markdown",
   "metadata": {
    "id": "mFuY2X0mJyWz"
   },
   "source": [
    "1.Check the Dimension of Array"
   ]
  },
  {
   "cell_type": "code",
   "execution_count": null,
   "metadata": {
    "colab": {
     "base_uri": "https://localhost:8080/"
    },
    "id": "tCSQymszJyWz",
    "outputId": "459e4896-ef3a-4071-a96c-e61d5b62c356"
   },
   "outputs": [],
   "source": [
    "#check the dimensions 1D, 2D and multi D arrays\n",
    "print(array.ndim)\n",
    "print(twoD_array.ndim)\n",
    "print(MultiD_array.ndim)"
   ]
  },
  {
   "cell_type": "code",
   "execution_count": null,
   "metadata": {
    "colab": {
     "base_uri": "https://localhost:8080/"
    },
    "id": "e5zoLXvLJyWz",
    "outputId": "00de0c49-01c1-4035-d7fa-e112643b09d7"
   },
   "outputs": [],
   "source": [
    "#check ndim of given array\n",
    "arr=np.array([[1,2,3],[2,4,6],[3,6,9]])\n",
    "print(arr.ndim)"
   ]
  },
  {
   "cell_type": "markdown",
   "metadata": {
    "id": "oitOqF5VJyW0"
   },
   "source": [
    "2.a) Slicing of 1-D Array"
   ]
  },
  {
   "cell_type": "code",
   "execution_count": null,
   "metadata": {
    "id": "5pWuJFacJyW0"
   },
   "outputs": [],
   "source": [
    "#array_=np.array([1,2,3,4,5])"
   ]
  },
  {
   "cell_type": "code",
   "execution_count": null,
   "metadata": {
    "colab": {
     "base_uri": "https://localhost:8080/"
    },
    "id": "47SkuiqDJyW0",
    "outputId": "7c6a3234-ab33-4c6d-af2a-cb5922974180",
    "scrolled": true
   },
   "outputs": [],
   "source": [
    "array_[1:4]"
   ]
  },
  {
   "cell_type": "code",
   "execution_count": null,
   "metadata": {
    "colab": {
     "base_uri": "https://localhost:8080/"
    },
    "id": "92rCvIrSJyW0",
    "outputId": "80b260e2-f4c2-48b8-d114-95fdd7d19072"
   },
   "outputs": [],
   "source": [
    "array_[-3:-1]"
   ]
  },
  {
   "cell_type": "markdown",
   "metadata": {
    "id": "gFT-dYrqJyW0"
   },
   "source": [
    "2.b) Slicing 2-D Array"
   ]
  },
  {
   "cell_type": "code",
   "execution_count": null,
   "metadata": {
    "id": "rSJRBIoTJyW0"
   },
   "outputs": [],
   "source": [
    "#twoD_array = np.array([[1,2,3],[1,4,9]])"
   ]
  },
  {
   "cell_type": "code",
   "execution_count": null,
   "metadata": {
    "colab": {
     "base_uri": "https://localhost:8080/"
    },
    "id": "4Zte1F4rJyW1",
    "outputId": "8837fad9-b598-4e11-9b04-1c15425e53b2"
   },
   "outputs": [],
   "source": [
    "#access 2nd row elements\n",
    "twoD_array[1]"
   ]
  },
  {
   "cell_type": "code",
   "execution_count": null,
   "metadata": {
    "colab": {
     "base_uri": "https://localhost:8080/"
    },
    "id": "yVPu8xguJyW1",
    "outputId": "2ffbe163-85ea-41ad-cf33-69f68011e1ee"
   },
   "outputs": [],
   "source": [
    "#accessing 2nd column elements\n",
    "twoD_array[:,2]"
   ]
  },
  {
   "cell_type": "code",
   "execution_count": null,
   "metadata": {
    "colab": {
     "base_uri": "https://localhost:8080/"
    },
    "id": "Kf6AUgBiJyW1",
    "outputId": "7aaca312-3509-43bd-96d7-6ed67927bb11"
   },
   "outputs": [],
   "source": [
    "array_2D=np.array([[1,2,3,4,5],[6,7,8,9,10]])\n",
    "array_2D"
   ]
  },
  {
   "cell_type": "code",
   "execution_count": null,
   "metadata": {
    "colab": {
     "base_uri": "https://localhost:8080/"
    },
    "id": "bwptM6I9JyW1",
    "outputId": "f094813c-919a-4e6d-9ed5-08e81a303a76"
   },
   "outputs": [],
   "source": [
    "#getting first 4 elements from second row\n",
    "array_2D[1,0:4]"
   ]
  },
  {
   "cell_type": "code",
   "execution_count": null,
   "metadata": {
    "colab": {
     "base_uri": "https://localhost:8080/"
    },
    "id": "UW4V3_ujJyW1",
    "outputId": "15affc97-ae2c-41d6-f9a7-fa14bb9e3b19"
   },
   "outputs": [],
   "source": [
    "#getting 4th column elements\n",
    "array_2D[0:2,3]"
   ]
  },
  {
   "cell_type": "code",
   "execution_count": null,
   "metadata": {
    "colab": {
     "base_uri": "https://localhost:8080/"
    },
    "id": "ZrpLH34VJyW1",
    "outputId": "2f460e4a-3329-4c79-ebbf-8218c2917327"
   },
   "outputs": [],
   "source": [
    "#getting 2nd and 3rd column from array\n",
    "array_2D[0:2,1:3]"
   ]
  },
  {
   "cell_type": "markdown",
   "metadata": {
    "id": "KoyC9RpkJyW2"
   },
   "source": [
    "3.Data Type of Array"
   ]
  },
  {
   "cell_type": "code",
   "execution_count": null,
   "metadata": {
    "colab": {
     "base_uri": "https://localhost:8080/"
    },
    "id": "lcNV0ekMJyW2",
    "outputId": "a1dacb0c-1cf0-4f13-9080-a4affc96f803"
   },
   "outputs": [],
   "source": [
    "arr=np.array([True,False])\n",
    "arr.dtype"
   ]
  },
  {
   "cell_type": "code",
   "execution_count": null,
   "metadata": {
    "colab": {
     "base_uri": "https://localhost:8080/"
    },
    "id": "QgmkkOvAJyW2",
    "outputId": "88551fea-e50b-4c60-db0c-549f1cfaac63"
   },
   "outputs": [],
   "source": [
    "#check the type of array, array= np.array([1,2,3]) \n",
    "array.dtype"
   ]
  },
  {
   "cell_type": "markdown",
   "metadata": {
    "id": "_jO5yjjSJyW2"
   },
   "source": [
    "4. Shape of Array"
   ]
  },
  {
   "cell_type": "code",
   "execution_count": null,
   "metadata": {
    "colab": {
     "base_uri": "https://localhost:8080/"
    },
    "id": "QwLbotVbJyW2",
    "outputId": "518e1e56-0dec-42bb-d88d-57040b477dc8"
   },
   "outputs": [],
   "source": [
    "#getting the shape of arrays\n",
    "print(array_2D.shape)\n",
    "print(twoD_array.shape)\n",
    "print(MultiD_array.shape)\n",
    "print(arr.shape)"
   ]
  },
  {
   "cell_type": "code",
   "execution_count": null,
   "metadata": {
    "colab": {
     "base_uri": "https://localhost:8080/"
    },
    "id": "98MMIDbnJyW2",
    "outputId": "cee2626a-2499-48b9-9274-cd84bc333255"
   },
   "outputs": [],
   "source": [
    "#Reshape one D array to two D array\n",
    "array_1=np.array([1,2,3,4,5,6,7,8,9,10,11,12])\n",
    "print(array_1.reshape(3,4))"
   ]
  },
  {
   "cell_type": "markdown",
   "metadata": {
    "id": "s8_QK_0EJyW3"
   },
   "source": [
    "5. Numpy join"
   ]
  },
  {
   "cell_type": "code",
   "execution_count": null,
   "metadata": {
    "colab": {
     "base_uri": "https://localhost:8080/"
    },
    "id": "0Fn9ALTrJyW3",
    "outputId": "e09b6acd-0694-443a-8837-f0db14564162"
   },
   "outputs": [],
   "source": [
    "#join two one D arrays\n",
    "arr_1=np.array([1,2,3])\n",
    "arr_2=np.array([11,12,13])\n",
    "arr_new=np.concatenate((arr_1,arr_2))\n",
    "arr_new"
   ]
  },
  {
   "cell_type": "code",
   "execution_count": null,
   "metadata": {
    "colab": {
     "base_uri": "https://localhost:8080/"
    },
    "id": "LWFPR_DTJyW3",
    "outputId": "29e60598-b46b-4390-dd85-20f88174fba5"
   },
   "outputs": [],
   "source": [
    "#join two 2 D array along row\n",
    "twoD_array = np.array([[1,2,3],[1,4,9]])\n",
    "array_2D=np.array([[1,2,3,4,5],[6,7,8,9,10]])\n",
    "np.concatenate((twoD_array,array_2D),axis=1)"
   ]
  },
  {
   "cell_type": "code",
   "execution_count": null,
   "metadata": {
    "colab": {
     "base_uri": "https://localhost:8080/"
    },
    "id": "X5ycYpGfJyW3",
    "outputId": "d9dd9532-4314-43ef-c729-85af04ec626b"
   },
   "outputs": [],
   "source": [
    "array_1=np.array([[1,2,3,4],[1,4,9,16],[10,11,12,13]])\n",
    "array_2=np.array([[9,8,7],[6,5,4],[3,2,1]])\n",
    "#join given two array\n",
    "np.concatenate((array_1,array_2),axis=1)"
   ]
  },
  {
   "cell_type": "markdown",
   "metadata": {
    "id": "I26lvYsSJyW3"
   },
   "source": [
    "6. Length of Array"
   ]
  },
  {
   "cell_type": "code",
   "execution_count": null,
   "metadata": {
    "colab": {
     "base_uri": "https://localhost:8080/"
    },
    "id": "ghwncAmrJyW4",
    "outputId": "7a7b38bc-a7ec-4d43-f30e-aac34ca3b359"
   },
   "outputs": [],
   "source": [
    "#getting length of 1-D array\n",
    "arr_2=np.array([11,12,13])\n",
    "len(arr_2)"
   ]
  },
  {
   "cell_type": "code",
   "execution_count": null,
   "metadata": {
    "colab": {
     "base_uri": "https://localhost:8080/"
    },
    "id": "eG740CesJyW4",
    "outputId": "f288a88d-1e22-466a-90b3-88d40ec0534d"
   },
   "outputs": [],
   "source": [
    "#getting length of 2-D array\n",
    "twoD_array = np.array([[1,2,3],[1,4,9]])\n",
    "print(len(twoD_array))"
   ]
  },
  {
   "cell_type": "markdown",
   "metadata": {
    "id": "A-tGGCSEJyW4"
   },
   "source": [
    "# Arthematic Operations"
   ]
  },
  {
   "cell_type": "markdown",
   "metadata": {
    "id": "1WClObzqJyW4"
   },
   "source": [
    "1. Addition\n",
    "2. Subtraction\n",
    "3. Multiplication\n",
    "4. Division\n",
    "5. Power\n",
    "6. Mod(Remainder)"
   ]
  },
  {
   "cell_type": "code",
   "execution_count": null,
   "metadata": {
    "id": "ZUhzMUibJyW4"
   },
   "outputs": [],
   "source": [
    "arr_1=np.array([1,2,3])\n",
    "arr_2=np.array([11,12,13])"
   ]
  },
  {
   "cell_type": "code",
   "execution_count": null,
   "metadata": {
    "colab": {
     "base_uri": "https://localhost:8080/"
    },
    "id": "fEMz2g-eJyW4",
    "outputId": "36397e64-65b4-4730-e40a-50505d556772"
   },
   "outputs": [],
   "source": [
    "#Addition\n",
    "arr_add=np.add(arr_1,arr_2)\n",
    "arr_add"
   ]
  },
  {
   "cell_type": "code",
   "execution_count": null,
   "metadata": {
    "colab": {
     "base_uri": "https://localhost:8080/"
    },
    "id": "5DOC_VZnJyW5",
    "outputId": "1ee70b33-510d-4bf2-a0b2-960ad92d78f9"
   },
   "outputs": [],
   "source": [
    "#subtraction\n",
    "arr_sub=np.subtract(arr_2,arr_1)\n",
    "arr_sub"
   ]
  },
  {
   "cell_type": "code",
   "execution_count": null,
   "metadata": {
    "colab": {
     "base_uri": "https://localhost:8080/"
    },
    "id": "xey0nWFwJyW5",
    "outputId": "cfce0643-9a65-40d1-a496-863beadbc26c"
   },
   "outputs": [],
   "source": [
    "#Multiplication\n",
    "arr_multiply=np.multiply(arr_1,arr_2)\n",
    "arr_multiply"
   ]
  },
  {
   "cell_type": "code",
   "execution_count": null,
   "metadata": {
    "colab": {
     "base_uri": "https://localhost:8080/"
    },
    "id": "B-U2-wblJyW5",
    "outputId": "679bf96a-9660-4456-929a-41522524bb02"
   },
   "outputs": [],
   "source": [
    "#Division\n",
    "arr_div=np.divide(arr_2,arr_1)\n",
    "arr_div\n"
   ]
  },
  {
   "cell_type": "code",
   "execution_count": null,
   "metadata": {
    "colab": {
     "base_uri": "https://localhost:8080/"
    },
    "id": "H0FitBWWJyW5",
    "outputId": "34242fa0-595b-4d1e-97dd-57468ea10615"
   },
   "outputs": [],
   "source": [
    "#Power\n",
    "arr_pow=np.power(arr_2,arr_1)\n",
    "arr_pow"
   ]
  },
  {
   "cell_type": "code",
   "execution_count": null,
   "metadata": {
    "colab": {
     "base_uri": "https://localhost:8080/"
    },
    "id": "ImHpVyknJyW5",
    "outputId": "66d8210a-11d1-4556-c369-f548cd54acc9"
   },
   "outputs": [],
   "source": [
    "#Mod\n",
    "arr_mod=np.mod(arr_2,arr_1)\n",
    "arr_mod"
   ]
  },
  {
   "cell_type": "markdown",
   "metadata": {
    "id": "Yjmg-G3zJyW5"
   },
   "source": [
    "# Statistical Function"
   ]
  },
  {
   "cell_type": "markdown",
   "metadata": {
    "id": "XbY8mj5LJyW6"
   },
   "source": [
    "1. mean\n",
    "2. median\n",
    "3. mode\n",
    "4. Standard Deviation\n",
    "5. Variance"
   ]
  },
  {
   "cell_type": "code",
   "execution_count": null,
   "metadata": {
    "colab": {
     "base_uri": "https://localhost:8080/"
    },
    "id": "xFEpNJs4JyW6",
    "outputId": "7640ea75-43ce-4293-fd19-5f5653204154"
   },
   "outputs": [],
   "source": [
    "array_stat=np.array([1,2,2,3,4,5,6,7,8,8,8,9,10,11,12])\n",
    "#mean\n",
    "np.mean(array_stat)"
   ]
  },
  {
   "cell_type": "code",
   "execution_count": null,
   "metadata": {
    "colab": {
     "base_uri": "https://localhost:8080/"
    },
    "id": "MjONGV7WJyW6",
    "outputId": "71c991ef-e372-4b72-c262-62dd361a7c4a"
   },
   "outputs": [],
   "source": [
    "#median\n",
    "np.median(array_stat)"
   ]
  },
  {
   "cell_type": "code",
   "execution_count": null,
   "metadata": {
    "colab": {
     "base_uri": "https://localhost:8080/"
    },
    "id": "SSIAlX-CJyW6",
    "outputId": "02b37a39-9464-4273-9684-681273618306"
   },
   "outputs": [],
   "source": [
    "#mode \n",
    "import statistics as stat\n",
    "stat.mode(array_stat)"
   ]
  },
  {
   "cell_type": "code",
   "execution_count": null,
   "metadata": {
    "colab": {
     "base_uri": "https://localhost:8080/"
    },
    "id": "uJN8_zpHJyW6",
    "outputId": "7f6f7d5b-3c7e-4714-e39e-0dd4baaa7def"
   },
   "outputs": [],
   "source": [
    "#standard deviation\n",
    "np.std(array_stat)"
   ]
  },
  {
   "cell_type": "code",
   "execution_count": null,
   "metadata": {
    "colab": {
     "base_uri": "https://localhost:8080/"
    },
    "id": "AyeOx_TuJyW6",
    "outputId": "4f3eb736-77c1-4de7-e9e1-ae2b8efc52c6"
   },
   "outputs": [],
   "source": [
    "#Variance\n",
    "np.var(array_stat)"
   ]
  },
  {
   "cell_type": "markdown",
   "metadata": {
    "id": "POecSjbPJyW6"
   },
   "source": [
    "# Pandas"
   ]
  },
  {
   "cell_type": "code",
   "execution_count": null,
   "metadata": {
    "id": "6mnnNkNYJyW6"
   },
   "outputs": [],
   "source": [
    "#Import pandas library\n",
    "import pandas as pd"
   ]
  },
  {
   "cell_type": "markdown",
   "metadata": {
    "id": "uR1gxNVHJyW7"
   },
   "source": [
    "# Series"
   ]
  },
  {
   "cell_type": "markdown",
   "metadata": {
    "id": "P9nkR3tAJyW7"
   },
   "source": [
    "1. Create Series from List"
   ]
  },
  {
   "cell_type": "code",
   "execution_count": null,
   "metadata": {
    "id": "P4NOGaLdJyW7"
   },
   "outputs": [],
   "source": [
    "#declare the list\n",
    "lists=[1,6,8,10,12]\n",
    "#covert the list into series \n",
    "first_series=pd.Series(lists)"
   ]
  },
  {
   "cell_type": "code",
   "execution_count": null,
   "metadata": {
    "colab": {
     "base_uri": "https://localhost:8080/"
    },
    "id": "fsNg9duSJyW7",
    "outputId": "dccdbc48-dadf-49ce-8213-282b13663067"
   },
   "outputs": [],
   "source": [
    "#print the list\n",
    "print(lists)"
   ]
  },
  {
   "cell_type": "code",
   "execution_count": null,
   "metadata": {
    "colab": {
     "base_uri": "https://localhost:8080/"
    },
    "id": "Y35H8sZbJyW7",
    "outputId": "b40e5e82-99b3-4c04-ea98-74daff8f3dba"
   },
   "outputs": [],
   "source": [
    "#print the series\n",
    "print(first_series)"
   ]
  },
  {
   "cell_type": "markdown",
   "metadata": {
    "id": "w43n3A7EJyW7"
   },
   "source": [
    "2. Create list from array"
   ]
  },
  {
   "cell_type": "code",
   "execution_count": null,
   "metadata": {
    "id": "6DrfbsQBJyW7",
    "outputId": "1c7c91ca-f410-444a-848d-0a1ab37a7d9e"
   },
   "outputs": [],
   "source": [
    "#array\n",
    "array_prg=np.array(['Python','C programming','Java','SAS'])\n",
    "#convert to series\n",
    "S_array=pd.Series(array_prg)\n",
    "#print series\n",
    "print(S_array)"
   ]
  },
  {
   "cell_type": "markdown",
   "metadata": {
    "id": "wD_W8dyzJyW8"
   },
   "source": [
    "3. Create series from dictionary"
   ]
  },
  {
   "cell_type": "code",
   "execution_count": null,
   "metadata": {
    "id": "16gDAk_2JyW8"
   },
   "outputs": [],
   "source": [
    "#exercise\n",
    "#create a series from below given dictionary\n",
    "dict = {\n",
    "  \"Name\": \"ABC\",\n",
    "  \"subject\": \"Mathematics\",\n",
    "  \"ad_no\" :3345,\n",
    "  \"phn_no\": 1234567,\n",
    "}\n"
   ]
  },
  {
   "cell_type": "code",
   "execution_count": null,
   "metadata": {
    "id": "8j5Azn1_JyW8",
    "outputId": "7844862a-466f-4578-8adc-ac9419f2e922"
   },
   "outputs": [],
   "source": [
    "#covert the dictionary into series \n",
    "series_dict=pd.Series(dict)\n",
    "#print dictionary\n",
    "print(dict)"
   ]
  },
  {
   "cell_type": "code",
   "execution_count": null,
   "metadata": {
    "id": "VsryI8s2JyW8",
    "outputId": "0983dd74-dffc-43b3-b776-2d2990653f44"
   },
   "outputs": [],
   "source": [
    "#print the series\n",
    "print(series_dict)"
   ]
  },
  {
   "cell_type": "code",
   "execution_count": null,
   "metadata": {
    "id": "nYhlITrYJyW8"
   },
   "outputs": [],
   "source": []
  }
 ],
 "metadata": {
  "colab": {
   "provenance": []
  },
  "kernelspec": {
   "display_name": "Python 3",
   "language": "python",
   "name": "python3"
  },
  "language_info": {
   "codemirror_mode": {
    "name": "ipython",
    "version": 3
   },
   "file_extension": ".py",
   "mimetype": "text/x-python",
   "name": "python",
   "nbconvert_exporter": "python",
   "pygments_lexer": "ipython3",
   "version": "3.8.3"
  }
 },
 "nbformat": 4,
 "nbformat_minor": 1
}
