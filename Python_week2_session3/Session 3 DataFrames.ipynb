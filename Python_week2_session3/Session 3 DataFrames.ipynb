{
 "cells": [
  {
   "cell_type": "markdown",
   "id": "35c8b97e",
   "metadata": {},
   "source": [
    "# <font color = darkblue size=50px> Open Data Lab"
   ]
  },
  {
   "cell_type": "markdown",
   "id": "63b41d23",
   "metadata": {},
   "source": [
    "# <font color = darkblue> Government College Kasaragod"
   ]
  },
  {
   "cell_type": "markdown",
   "id": "4fcee271",
   "metadata": {},
   "source": [
    "## <font color=magenta> Session - 3 Introduction to NumPy and Pandas"
   ]
  },
  {
   "cell_type": "markdown",
   "id": "5226eff6",
   "metadata": {},
   "source": [
    "### <font color = magenta> Introduction to DataFrames"
   ]
  },
  {
   "cell_type": "markdown",
   "id": "3d59fb8b",
   "metadata": {},
   "source": [
    "---"
   ]
  },
  {
   "cell_type": "code",
   "execution_count": 1,
   "id": "c3784382",
   "metadata": {},
   "outputs": [],
   "source": [
    "# Importing necessary libraries\n",
    "\n",
    "import numpy as np\n",
    "import pandas as pd"
   ]
  },
  {
   "cell_type": "markdown",
   "id": "57478792",
   "metadata": {},
   "source": [
    "### <font color = darkgreen> Creating DataFrames using Dictionary"
   ]
  },
  {
   "cell_type": "code",
   "execution_count": 2,
   "id": "09525896",
   "metadata": {},
   "outputs": [],
   "source": [
    "# create a dictionary\n",
    "\n",
    "data = {'City' : ['City_1', 'City_2', 'City_3', 'City_4', 'City_5'],\n",
    "       'HT' : [36, 37, 36, 34, 35],\n",
    "       'LT' : [23, 22, 21, 23, 24]}"
   ]
  },
  {
   "cell_type": "code",
   "execution_count": 3,
   "id": "63af9615",
   "metadata": {},
   "outputs": [],
   "source": [
    "# convert it into a DataFrame\n",
    "\n",
    "df = pd.DataFrame(data)"
   ]
  },
  {
   "cell_type": "code",
   "execution_count": 4,
   "id": "9bb0db69",
   "metadata": {},
   "outputs": [
    {
     "data": {
      "text/html": [
       "<div>\n",
       "<style scoped>\n",
       "    .dataframe tbody tr th:only-of-type {\n",
       "        vertical-align: middle;\n",
       "    }\n",
       "\n",
       "    .dataframe tbody tr th {\n",
       "        vertical-align: top;\n",
       "    }\n",
       "\n",
       "    .dataframe thead th {\n",
       "        text-align: right;\n",
       "    }\n",
       "</style>\n",
       "<table border=\"1\" class=\"dataframe\">\n",
       "  <thead>\n",
       "    <tr style=\"text-align: right;\">\n",
       "      <th></th>\n",
       "      <th>City</th>\n",
       "      <th>HT</th>\n",
       "      <th>LT</th>\n",
       "    </tr>\n",
       "  </thead>\n",
       "  <tbody>\n",
       "    <tr>\n",
       "      <th>0</th>\n",
       "      <td>City_1</td>\n",
       "      <td>36</td>\n",
       "      <td>23</td>\n",
       "    </tr>\n",
       "    <tr>\n",
       "      <th>1</th>\n",
       "      <td>City_2</td>\n",
       "      <td>37</td>\n",
       "      <td>22</td>\n",
       "    </tr>\n",
       "    <tr>\n",
       "      <th>2</th>\n",
       "      <td>City_3</td>\n",
       "      <td>36</td>\n",
       "      <td>21</td>\n",
       "    </tr>\n",
       "    <tr>\n",
       "      <th>3</th>\n",
       "      <td>City_4</td>\n",
       "      <td>34</td>\n",
       "      <td>23</td>\n",
       "    </tr>\n",
       "    <tr>\n",
       "      <th>4</th>\n",
       "      <td>City_5</td>\n",
       "      <td>35</td>\n",
       "      <td>24</td>\n",
       "    </tr>\n",
       "  </tbody>\n",
       "</table>\n",
       "</div>"
      ],
      "text/plain": [
       "     City  HT  LT\n",
       "0  City_1  36  23\n",
       "1  City_2  37  22\n",
       "2  City_3  36  21\n",
       "3  City_4  34  23\n",
       "4  City_5  35  24"
      ]
     },
     "execution_count": 4,
     "metadata": {},
     "output_type": "execute_result"
    }
   ],
   "source": [
    "df"
   ]
  },
  {
   "cell_type": "markdown",
   "id": "725ababf",
   "metadata": {},
   "source": [
    "DataFrame is a single-key multiple value pairs"
   ]
  },
  {
   "cell_type": "code",
   "execution_count": 5,
   "id": "8f41527d",
   "metadata": {},
   "outputs": [
    {
     "data": {
      "text/plain": [
       "Index(['City', 'HT', 'LT'], dtype='object')"
      ]
     },
     "execution_count": 5,
     "metadata": {},
     "output_type": "execute_result"
    }
   ],
   "source": [
    "#columns\n",
    "\n",
    "df.columns"
   ]
  },
  {
   "cell_type": "markdown",
   "id": "c90c810f",
   "metadata": {},
   "source": [
    "### <font color= green> Columns"
   ]
  },
  {
   "cell_type": "code",
   "execution_count": 6,
   "id": "95a873eb",
   "metadata": {
    "scrolled": true
   },
   "outputs": [
    {
     "data": {
      "text/plain": [
       "0    City_1\n",
       "1    City_2\n",
       "2    City_3\n",
       "3    City_4\n",
       "4    City_5\n",
       "Name: City, dtype: object"
      ]
     },
     "execution_count": 6,
     "metadata": {},
     "output_type": "execute_result"
    }
   ],
   "source": [
    "df['City']"
   ]
  },
  {
   "cell_type": "markdown",
   "id": "a8615b1a",
   "metadata": {},
   "source": [
    "This is an example of a Pandas Series."
   ]
  },
  {
   "cell_type": "code",
   "execution_count": 7,
   "id": "7c3ceb7c",
   "metadata": {},
   "outputs": [
    {
     "data": {
      "text/html": [
       "<div>\n",
       "<style scoped>\n",
       "    .dataframe tbody tr th:only-of-type {\n",
       "        vertical-align: middle;\n",
       "    }\n",
       "\n",
       "    .dataframe tbody tr th {\n",
       "        vertical-align: top;\n",
       "    }\n",
       "\n",
       "    .dataframe thead th {\n",
       "        text-align: right;\n",
       "    }\n",
       "</style>\n",
       "<table border=\"1\" class=\"dataframe\">\n",
       "  <thead>\n",
       "    <tr style=\"text-align: right;\">\n",
       "      <th></th>\n",
       "      <th>LT</th>\n",
       "    </tr>\n",
       "  </thead>\n",
       "  <tbody>\n",
       "    <tr>\n",
       "      <th>0</th>\n",
       "      <td>23</td>\n",
       "    </tr>\n",
       "    <tr>\n",
       "      <th>1</th>\n",
       "      <td>22</td>\n",
       "    </tr>\n",
       "    <tr>\n",
       "      <th>2</th>\n",
       "      <td>21</td>\n",
       "    </tr>\n",
       "    <tr>\n",
       "      <th>3</th>\n",
       "      <td>23</td>\n",
       "    </tr>\n",
       "    <tr>\n",
       "      <th>4</th>\n",
       "      <td>24</td>\n",
       "    </tr>\n",
       "  </tbody>\n",
       "</table>\n",
       "</div>"
      ],
      "text/plain": [
       "   LT\n",
       "0  23\n",
       "1  22\n",
       "2  21\n",
       "3  23\n",
       "4  24"
      ]
     },
     "execution_count": 7,
     "metadata": {},
     "output_type": "execute_result"
    }
   ],
   "source": [
    "df[['LT']]"
   ]
  },
  {
   "cell_type": "markdown",
   "id": "6b0a02b8",
   "metadata": {},
   "source": [
    "When using [ ], the result is a Pandas DataFrame"
   ]
  },
  {
   "cell_type": "code",
   "execution_count": 8,
   "id": "db0c7d47",
   "metadata": {},
   "outputs": [
    {
     "data": {
      "text/html": [
       "<div>\n",
       "<style scoped>\n",
       "    .dataframe tbody tr th:only-of-type {\n",
       "        vertical-align: middle;\n",
       "    }\n",
       "\n",
       "    .dataframe tbody tr th {\n",
       "        vertical-align: top;\n",
       "    }\n",
       "\n",
       "    .dataframe thead th {\n",
       "        text-align: right;\n",
       "    }\n",
       "</style>\n",
       "<table border=\"1\" class=\"dataframe\">\n",
       "  <thead>\n",
       "    <tr style=\"text-align: right;\">\n",
       "      <th></th>\n",
       "      <th>City</th>\n",
       "      <th>LT</th>\n",
       "    </tr>\n",
       "  </thead>\n",
       "  <tbody>\n",
       "    <tr>\n",
       "      <th>0</th>\n",
       "      <td>City_1</td>\n",
       "      <td>23</td>\n",
       "    </tr>\n",
       "    <tr>\n",
       "      <th>1</th>\n",
       "      <td>City_2</td>\n",
       "      <td>22</td>\n",
       "    </tr>\n",
       "    <tr>\n",
       "      <th>2</th>\n",
       "      <td>City_3</td>\n",
       "      <td>21</td>\n",
       "    </tr>\n",
       "    <tr>\n",
       "      <th>3</th>\n",
       "      <td>City_4</td>\n",
       "      <td>23</td>\n",
       "    </tr>\n",
       "    <tr>\n",
       "      <th>4</th>\n",
       "      <td>City_5</td>\n",
       "      <td>24</td>\n",
       "    </tr>\n",
       "  </tbody>\n",
       "</table>\n",
       "</div>"
      ],
      "text/plain": [
       "     City  LT\n",
       "0  City_1  23\n",
       "1  City_2  22\n",
       "2  City_3  21\n",
       "3  City_4  23\n",
       "4  City_5  24"
      ]
     },
     "execution_count": 8,
     "metadata": {},
     "output_type": "execute_result"
    }
   ],
   "source": [
    "# Extracting multiple columns\n",
    "\n",
    "df[['City', 'LT']]"
   ]
  },
  {
   "cell_type": "markdown",
   "id": "cef913be",
   "metadata": {},
   "source": [
    "### <font color = green> Locate Row"
   ]
  },
  {
   "cell_type": "code",
   "execution_count": 9,
   "id": "16c14781",
   "metadata": {},
   "outputs": [
    {
     "data": {
      "text/plain": [
       "City    City_3\n",
       "HT          36\n",
       "LT          21\n",
       "Name: 2, dtype: object"
      ]
     },
     "execution_count": 9,
     "metadata": {},
     "output_type": "execute_result"
    }
   ],
   "source": [
    "# loc attribute\n",
    "\n",
    "df.loc[2]"
   ]
  },
  {
   "cell_type": "markdown",
   "id": "68ddda4e",
   "metadata": {},
   "source": [
    "This is an example of a Pandas Series."
   ]
  },
  {
   "cell_type": "code",
   "execution_count": 10,
   "id": "763a7cd2",
   "metadata": {},
   "outputs": [
    {
     "data": {
      "text/html": [
       "<div>\n",
       "<style scoped>\n",
       "    .dataframe tbody tr th:only-of-type {\n",
       "        vertical-align: middle;\n",
       "    }\n",
       "\n",
       "    .dataframe tbody tr th {\n",
       "        vertical-align: top;\n",
       "    }\n",
       "\n",
       "    .dataframe thead th {\n",
       "        text-align: right;\n",
       "    }\n",
       "</style>\n",
       "<table border=\"1\" class=\"dataframe\">\n",
       "  <thead>\n",
       "    <tr style=\"text-align: right;\">\n",
       "      <th></th>\n",
       "      <th>City</th>\n",
       "      <th>HT</th>\n",
       "      <th>LT</th>\n",
       "    </tr>\n",
       "  </thead>\n",
       "  <tbody>\n",
       "    <tr>\n",
       "      <th>2</th>\n",
       "      <td>City_3</td>\n",
       "      <td>36</td>\n",
       "      <td>21</td>\n",
       "    </tr>\n",
       "  </tbody>\n",
       "</table>\n",
       "</div>"
      ],
      "text/plain": [
       "     City  HT  LT\n",
       "2  City_3  36  21"
      ]
     },
     "execution_count": 10,
     "metadata": {},
     "output_type": "execute_result"
    }
   ],
   "source": [
    "df.loc[[2]]"
   ]
  },
  {
   "cell_type": "markdown",
   "id": "2e99e747",
   "metadata": {},
   "source": [
    "When using [ ], the result is a Pandas DataFrame"
   ]
  },
  {
   "cell_type": "code",
   "execution_count": 11,
   "id": "c08663f7",
   "metadata": {},
   "outputs": [
    {
     "data": {
      "text/html": [
       "<div>\n",
       "<style scoped>\n",
       "    .dataframe tbody tr th:only-of-type {\n",
       "        vertical-align: middle;\n",
       "    }\n",
       "\n",
       "    .dataframe tbody tr th {\n",
       "        vertical-align: top;\n",
       "    }\n",
       "\n",
       "    .dataframe thead th {\n",
       "        text-align: right;\n",
       "    }\n",
       "</style>\n",
       "<table border=\"1\" class=\"dataframe\">\n",
       "  <thead>\n",
       "    <tr style=\"text-align: right;\">\n",
       "      <th></th>\n",
       "      <th>City</th>\n",
       "      <th>HT</th>\n",
       "      <th>LT</th>\n",
       "    </tr>\n",
       "  </thead>\n",
       "  <tbody>\n",
       "    <tr>\n",
       "      <th>1</th>\n",
       "      <td>City_2</td>\n",
       "      <td>37</td>\n",
       "      <td>22</td>\n",
       "    </tr>\n",
       "    <tr>\n",
       "      <th>3</th>\n",
       "      <td>City_4</td>\n",
       "      <td>34</td>\n",
       "      <td>23</td>\n",
       "    </tr>\n",
       "  </tbody>\n",
       "</table>\n",
       "</div>"
      ],
      "text/plain": [
       "     City  HT  LT\n",
       "1  City_2  37  22\n",
       "3  City_4  34  23"
      ]
     },
     "execution_count": 11,
     "metadata": {},
     "output_type": "execute_result"
    }
   ],
   "source": [
    "# Locating multiple rows\n",
    "\n",
    "df.loc[[1,3]]"
   ]
  },
  {
   "cell_type": "markdown",
   "id": "1f86b4a6",
   "metadata": {},
   "source": [
    "### <font color = green> Named Indexes"
   ]
  },
  {
   "cell_type": "code",
   "execution_count": 12,
   "id": "714cfb0d",
   "metadata": {},
   "outputs": [
    {
     "data": {
      "text/html": [
       "<div>\n",
       "<style scoped>\n",
       "    .dataframe tbody tr th:only-of-type {\n",
       "        vertical-align: middle;\n",
       "    }\n",
       "\n",
       "    .dataframe tbody tr th {\n",
       "        vertical-align: top;\n",
       "    }\n",
       "\n",
       "    .dataframe thead th {\n",
       "        text-align: right;\n",
       "    }\n",
       "</style>\n",
       "<table border=\"1\" class=\"dataframe\">\n",
       "  <thead>\n",
       "    <tr style=\"text-align: right;\">\n",
       "      <th></th>\n",
       "      <th>HT</th>\n",
       "      <th>LT</th>\n",
       "    </tr>\n",
       "  </thead>\n",
       "  <tbody>\n",
       "    <tr>\n",
       "      <th>City_1</th>\n",
       "      <td>36</td>\n",
       "      <td>23</td>\n",
       "    </tr>\n",
       "    <tr>\n",
       "      <th>City_2</th>\n",
       "      <td>37</td>\n",
       "      <td>22</td>\n",
       "    </tr>\n",
       "    <tr>\n",
       "      <th>City_3</th>\n",
       "      <td>36</td>\n",
       "      <td>21</td>\n",
       "    </tr>\n",
       "    <tr>\n",
       "      <th>City_4</th>\n",
       "      <td>34</td>\n",
       "      <td>23</td>\n",
       "    </tr>\n",
       "    <tr>\n",
       "      <th>City_5</th>\n",
       "      <td>35</td>\n",
       "      <td>24</td>\n",
       "    </tr>\n",
       "  </tbody>\n",
       "</table>\n",
       "</div>"
      ],
      "text/plain": [
       "        HT  LT\n",
       "City_1  36  23\n",
       "City_2  37  22\n",
       "City_3  36  21\n",
       "City_4  34  23\n",
       "City_5  35  24"
      ]
     },
     "execution_count": 12,
     "metadata": {},
     "output_type": "execute_result"
    }
   ],
   "source": [
    "data1 = {'HT' : [36, 37, 36, 34, 35],\n",
    "       'LT' : [23, 22, 21, 23, 24]}\n",
    "\n",
    "df1 = pd.DataFrame(data1, index=['City_1', 'City_2', 'City_3', 'City_4', 'City_5'])\n",
    "df1"
   ]
  },
  {
   "cell_type": "code",
   "execution_count": 13,
   "id": "375fc360",
   "metadata": {},
   "outputs": [
    {
     "data": {
      "text/plain": [
       "HT    34\n",
       "LT    23\n",
       "Name: City_4, dtype: int64"
      ]
     },
     "execution_count": 13,
     "metadata": {},
     "output_type": "execute_result"
    }
   ],
   "source": [
    "# Locating named indexes\n",
    "df1.loc['City_4']"
   ]
  },
  {
   "cell_type": "code",
   "execution_count": 14,
   "id": "4df30434",
   "metadata": {},
   "outputs": [
    {
     "data": {
      "text/html": [
       "<div>\n",
       "<style scoped>\n",
       "    .dataframe tbody tr th:only-of-type {\n",
       "        vertical-align: middle;\n",
       "    }\n",
       "\n",
       "    .dataframe tbody tr th {\n",
       "        vertical-align: top;\n",
       "    }\n",
       "\n",
       "    .dataframe thead th {\n",
       "        text-align: right;\n",
       "    }\n",
       "</style>\n",
       "<table border=\"1\" class=\"dataframe\">\n",
       "  <thead>\n",
       "    <tr style=\"text-align: right;\">\n",
       "      <th></th>\n",
       "      <th>HT</th>\n",
       "      <th>LT</th>\n",
       "    </tr>\n",
       "  </thead>\n",
       "  <tbody>\n",
       "    <tr>\n",
       "      <th>City_3</th>\n",
       "      <td>36</td>\n",
       "      <td>21</td>\n",
       "    </tr>\n",
       "    <tr>\n",
       "      <th>City_5</th>\n",
       "      <td>35</td>\n",
       "      <td>24</td>\n",
       "    </tr>\n",
       "  </tbody>\n",
       "</table>\n",
       "</div>"
      ],
      "text/plain": [
       "        HT  LT\n",
       "City_3  36  21\n",
       "City_5  35  24"
      ]
     },
     "execution_count": 14,
     "metadata": {},
     "output_type": "execute_result"
    }
   ],
   "source": [
    "df1.loc[['City_3', 'City_5']]"
   ]
  },
  {
   "cell_type": "markdown",
   "id": "8dfa393b",
   "metadata": {},
   "source": [
    "### <font color = green> Adding a new column"
   ]
  },
  {
   "cell_type": "code",
   "execution_count": 15,
   "id": "f1250dc1",
   "metadata": {},
   "outputs": [],
   "source": [
    "df1['TD'] = df1['HT'] - df1['LT']"
   ]
  },
  {
   "cell_type": "code",
   "execution_count": 16,
   "id": "32838fb2",
   "metadata": {},
   "outputs": [
    {
     "data": {
      "text/html": [
       "<div>\n",
       "<style scoped>\n",
       "    .dataframe tbody tr th:only-of-type {\n",
       "        vertical-align: middle;\n",
       "    }\n",
       "\n",
       "    .dataframe tbody tr th {\n",
       "        vertical-align: top;\n",
       "    }\n",
       "\n",
       "    .dataframe thead th {\n",
       "        text-align: right;\n",
       "    }\n",
       "</style>\n",
       "<table border=\"1\" class=\"dataframe\">\n",
       "  <thead>\n",
       "    <tr style=\"text-align: right;\">\n",
       "      <th></th>\n",
       "      <th>HT</th>\n",
       "      <th>LT</th>\n",
       "      <th>TD</th>\n",
       "    </tr>\n",
       "  </thead>\n",
       "  <tbody>\n",
       "    <tr>\n",
       "      <th>City_1</th>\n",
       "      <td>36</td>\n",
       "      <td>23</td>\n",
       "      <td>13</td>\n",
       "    </tr>\n",
       "    <tr>\n",
       "      <th>City_2</th>\n",
       "      <td>37</td>\n",
       "      <td>22</td>\n",
       "      <td>15</td>\n",
       "    </tr>\n",
       "    <tr>\n",
       "      <th>City_3</th>\n",
       "      <td>36</td>\n",
       "      <td>21</td>\n",
       "      <td>15</td>\n",
       "    </tr>\n",
       "    <tr>\n",
       "      <th>City_4</th>\n",
       "      <td>34</td>\n",
       "      <td>23</td>\n",
       "      <td>11</td>\n",
       "    </tr>\n",
       "    <tr>\n",
       "      <th>City_5</th>\n",
       "      <td>35</td>\n",
       "      <td>24</td>\n",
       "      <td>11</td>\n",
       "    </tr>\n",
       "  </tbody>\n",
       "</table>\n",
       "</div>"
      ],
      "text/plain": [
       "        HT  LT  TD\n",
       "City_1  36  23  13\n",
       "City_2  37  22  15\n",
       "City_3  36  21  15\n",
       "City_4  34  23  11\n",
       "City_5  35  24  11"
      ]
     },
     "execution_count": 16,
     "metadata": {},
     "output_type": "execute_result"
    }
   ],
   "source": [
    "df1"
   ]
  },
  {
   "cell_type": "code",
   "execution_count": 17,
   "id": "1866031f",
   "metadata": {},
   "outputs": [],
   "source": [
    "df1['WS'] = [9.3, 9.3, 7.4, 11.1, 14.8]"
   ]
  },
  {
   "cell_type": "code",
   "execution_count": 18,
   "id": "45addc23",
   "metadata": {},
   "outputs": [
    {
     "data": {
      "text/html": [
       "<div>\n",
       "<style scoped>\n",
       "    .dataframe tbody tr th:only-of-type {\n",
       "        vertical-align: middle;\n",
       "    }\n",
       "\n",
       "    .dataframe tbody tr th {\n",
       "        vertical-align: top;\n",
       "    }\n",
       "\n",
       "    .dataframe thead th {\n",
       "        text-align: right;\n",
       "    }\n",
       "</style>\n",
       "<table border=\"1\" class=\"dataframe\">\n",
       "  <thead>\n",
       "    <tr style=\"text-align: right;\">\n",
       "      <th></th>\n",
       "      <th>HT</th>\n",
       "      <th>LT</th>\n",
       "      <th>TD</th>\n",
       "      <th>WS</th>\n",
       "    </tr>\n",
       "  </thead>\n",
       "  <tbody>\n",
       "    <tr>\n",
       "      <th>City_1</th>\n",
       "      <td>36</td>\n",
       "      <td>23</td>\n",
       "      <td>13</td>\n",
       "      <td>9.3</td>\n",
       "    </tr>\n",
       "    <tr>\n",
       "      <th>City_2</th>\n",
       "      <td>37</td>\n",
       "      <td>22</td>\n",
       "      <td>15</td>\n",
       "      <td>9.3</td>\n",
       "    </tr>\n",
       "    <tr>\n",
       "      <th>City_3</th>\n",
       "      <td>36</td>\n",
       "      <td>21</td>\n",
       "      <td>15</td>\n",
       "      <td>7.4</td>\n",
       "    </tr>\n",
       "    <tr>\n",
       "      <th>City_4</th>\n",
       "      <td>34</td>\n",
       "      <td>23</td>\n",
       "      <td>11</td>\n",
       "      <td>11.1</td>\n",
       "    </tr>\n",
       "    <tr>\n",
       "      <th>City_5</th>\n",
       "      <td>35</td>\n",
       "      <td>24</td>\n",
       "      <td>11</td>\n",
       "      <td>14.8</td>\n",
       "    </tr>\n",
       "  </tbody>\n",
       "</table>\n",
       "</div>"
      ],
      "text/plain": [
       "        HT  LT  TD    WS\n",
       "City_1  36  23  13   9.3\n",
       "City_2  37  22  15   9.3\n",
       "City_3  36  21  15   7.4\n",
       "City_4  34  23  11  11.1\n",
       "City_5  35  24  11  14.8"
      ]
     },
     "execution_count": 18,
     "metadata": {},
     "output_type": "execute_result"
    }
   ],
   "source": [
    "df1"
   ]
  },
  {
   "cell_type": "markdown",
   "id": "f4ecc065",
   "metadata": {},
   "source": [
    "### <font color = green> Delete a column"
   ]
  },
  {
   "cell_type": "code",
   "execution_count": 19,
   "id": "2f35d54c",
   "metadata": {},
   "outputs": [],
   "source": [
    "del df1['TD']"
   ]
  },
  {
   "cell_type": "code",
   "execution_count": 20,
   "id": "d17051b7",
   "metadata": {},
   "outputs": [
    {
     "data": {
      "text/html": [
       "<div>\n",
       "<style scoped>\n",
       "    .dataframe tbody tr th:only-of-type {\n",
       "        vertical-align: middle;\n",
       "    }\n",
       "\n",
       "    .dataframe tbody tr th {\n",
       "        vertical-align: top;\n",
       "    }\n",
       "\n",
       "    .dataframe thead th {\n",
       "        text-align: right;\n",
       "    }\n",
       "</style>\n",
       "<table border=\"1\" class=\"dataframe\">\n",
       "  <thead>\n",
       "    <tr style=\"text-align: right;\">\n",
       "      <th></th>\n",
       "      <th>HT</th>\n",
       "      <th>LT</th>\n",
       "      <th>WS</th>\n",
       "    </tr>\n",
       "  </thead>\n",
       "  <tbody>\n",
       "    <tr>\n",
       "      <th>City_1</th>\n",
       "      <td>36</td>\n",
       "      <td>23</td>\n",
       "      <td>9.3</td>\n",
       "    </tr>\n",
       "    <tr>\n",
       "      <th>City_2</th>\n",
       "      <td>37</td>\n",
       "      <td>22</td>\n",
       "      <td>9.3</td>\n",
       "    </tr>\n",
       "    <tr>\n",
       "      <th>City_3</th>\n",
       "      <td>36</td>\n",
       "      <td>21</td>\n",
       "      <td>7.4</td>\n",
       "    </tr>\n",
       "    <tr>\n",
       "      <th>City_4</th>\n",
       "      <td>34</td>\n",
       "      <td>23</td>\n",
       "      <td>11.1</td>\n",
       "    </tr>\n",
       "    <tr>\n",
       "      <th>City_5</th>\n",
       "      <td>35</td>\n",
       "      <td>24</td>\n",
       "      <td>14.8</td>\n",
       "    </tr>\n",
       "  </tbody>\n",
       "</table>\n",
       "</div>"
      ],
      "text/plain": [
       "        HT  LT    WS\n",
       "City_1  36  23   9.3\n",
       "City_2  37  22   9.3\n",
       "City_3  36  21   7.4\n",
       "City_4  34  23  11.1\n",
       "City_5  35  24  14.8"
      ]
     },
     "execution_count": 20,
     "metadata": {},
     "output_type": "execute_result"
    }
   ],
   "source": [
    "df1"
   ]
  },
  {
   "cell_type": "code",
   "execution_count": 21,
   "id": "b149fefc",
   "metadata": {},
   "outputs": [],
   "source": [
    "# simply adding a column with all values same\n",
    "df1['CC'] = 'Normal'"
   ]
  },
  {
   "cell_type": "code",
   "execution_count": 22,
   "id": "4a4bf739",
   "metadata": {},
   "outputs": [
    {
     "data": {
      "text/html": [
       "<div>\n",
       "<style scoped>\n",
       "    .dataframe tbody tr th:only-of-type {\n",
       "        vertical-align: middle;\n",
       "    }\n",
       "\n",
       "    .dataframe tbody tr th {\n",
       "        vertical-align: top;\n",
       "    }\n",
       "\n",
       "    .dataframe thead th {\n",
       "        text-align: right;\n",
       "    }\n",
       "</style>\n",
       "<table border=\"1\" class=\"dataframe\">\n",
       "  <thead>\n",
       "    <tr style=\"text-align: right;\">\n",
       "      <th></th>\n",
       "      <th>HT</th>\n",
       "      <th>LT</th>\n",
       "      <th>WS</th>\n",
       "      <th>CC</th>\n",
       "    </tr>\n",
       "  </thead>\n",
       "  <tbody>\n",
       "    <tr>\n",
       "      <th>City_1</th>\n",
       "      <td>36</td>\n",
       "      <td>23</td>\n",
       "      <td>9.3</td>\n",
       "      <td>Normal</td>\n",
       "    </tr>\n",
       "    <tr>\n",
       "      <th>City_2</th>\n",
       "      <td>37</td>\n",
       "      <td>22</td>\n",
       "      <td>9.3</td>\n",
       "      <td>Normal</td>\n",
       "    </tr>\n",
       "    <tr>\n",
       "      <th>City_3</th>\n",
       "      <td>36</td>\n",
       "      <td>21</td>\n",
       "      <td>7.4</td>\n",
       "      <td>Normal</td>\n",
       "    </tr>\n",
       "    <tr>\n",
       "      <th>City_4</th>\n",
       "      <td>34</td>\n",
       "      <td>23</td>\n",
       "      <td>11.1</td>\n",
       "      <td>Normal</td>\n",
       "    </tr>\n",
       "    <tr>\n",
       "      <th>City_5</th>\n",
       "      <td>35</td>\n",
       "      <td>24</td>\n",
       "      <td>14.8</td>\n",
       "      <td>Normal</td>\n",
       "    </tr>\n",
       "  </tbody>\n",
       "</table>\n",
       "</div>"
      ],
      "text/plain": [
       "        HT  LT    WS      CC\n",
       "City_1  36  23   9.3  Normal\n",
       "City_2  37  22   9.3  Normal\n",
       "City_3  36  21   7.4  Normal\n",
       "City_4  34  23  11.1  Normal\n",
       "City_5  35  24  14.8  Normal"
      ]
     },
     "execution_count": 22,
     "metadata": {},
     "output_type": "execute_result"
    }
   ],
   "source": [
    "df1"
   ]
  },
  {
   "cell_type": "code",
   "execution_count": 23,
   "id": "20e5f534",
   "metadata": {},
   "outputs": [
    {
     "data": {
      "text/html": [
       "<div>\n",
       "<style scoped>\n",
       "    .dataframe tbody tr th:only-of-type {\n",
       "        vertical-align: middle;\n",
       "    }\n",
       "\n",
       "    .dataframe tbody tr th {\n",
       "        vertical-align: top;\n",
       "    }\n",
       "\n",
       "    .dataframe thead th {\n",
       "        text-align: right;\n",
       "    }\n",
       "</style>\n",
       "<table border=\"1\" class=\"dataframe\">\n",
       "  <thead>\n",
       "    <tr style=\"text-align: right;\">\n",
       "      <th></th>\n",
       "      <th>HT</th>\n",
       "      <th>LT</th>\n",
       "      <th>WS</th>\n",
       "    </tr>\n",
       "  </thead>\n",
       "  <tbody>\n",
       "    <tr>\n",
       "      <th>City_1</th>\n",
       "      <td>36</td>\n",
       "      <td>23</td>\n",
       "      <td>9.3</td>\n",
       "    </tr>\n",
       "    <tr>\n",
       "      <th>City_2</th>\n",
       "      <td>37</td>\n",
       "      <td>22</td>\n",
       "      <td>9.3</td>\n",
       "    </tr>\n",
       "    <tr>\n",
       "      <th>City_3</th>\n",
       "      <td>36</td>\n",
       "      <td>21</td>\n",
       "      <td>7.4</td>\n",
       "    </tr>\n",
       "    <tr>\n",
       "      <th>City_4</th>\n",
       "      <td>34</td>\n",
       "      <td>23</td>\n",
       "      <td>11.1</td>\n",
       "    </tr>\n",
       "    <tr>\n",
       "      <th>City_5</th>\n",
       "      <td>35</td>\n",
       "      <td>24</td>\n",
       "      <td>14.8</td>\n",
       "    </tr>\n",
       "  </tbody>\n",
       "</table>\n",
       "</div>"
      ],
      "text/plain": [
       "        HT  LT    WS\n",
       "City_1  36  23   9.3\n",
       "City_2  37  22   9.3\n",
       "City_3  36  21   7.4\n",
       "City_4  34  23  11.1\n",
       "City_5  35  24  14.8"
      ]
     },
     "execution_count": 23,
     "metadata": {},
     "output_type": "execute_result"
    }
   ],
   "source": [
    "# another way to drop\n",
    "\n",
    "df1.drop('CC', axis=1)"
   ]
  },
  {
   "cell_type": "code",
   "execution_count": 24,
   "id": "bb361eb4",
   "metadata": {},
   "outputs": [
    {
     "data": {
      "text/html": [
       "<div>\n",
       "<style scoped>\n",
       "    .dataframe tbody tr th:only-of-type {\n",
       "        vertical-align: middle;\n",
       "    }\n",
       "\n",
       "    .dataframe tbody tr th {\n",
       "        vertical-align: top;\n",
       "    }\n",
       "\n",
       "    .dataframe thead th {\n",
       "        text-align: right;\n",
       "    }\n",
       "</style>\n",
       "<table border=\"1\" class=\"dataframe\">\n",
       "  <thead>\n",
       "    <tr style=\"text-align: right;\">\n",
       "      <th></th>\n",
       "      <th>HT</th>\n",
       "      <th>LT</th>\n",
       "      <th>WS</th>\n",
       "      <th>CC</th>\n",
       "    </tr>\n",
       "  </thead>\n",
       "  <tbody>\n",
       "    <tr>\n",
       "      <th>City_1</th>\n",
       "      <td>36</td>\n",
       "      <td>23</td>\n",
       "      <td>9.3</td>\n",
       "      <td>Normal</td>\n",
       "    </tr>\n",
       "    <tr>\n",
       "      <th>City_2</th>\n",
       "      <td>37</td>\n",
       "      <td>22</td>\n",
       "      <td>9.3</td>\n",
       "      <td>Normal</td>\n",
       "    </tr>\n",
       "    <tr>\n",
       "      <th>City_3</th>\n",
       "      <td>36</td>\n",
       "      <td>21</td>\n",
       "      <td>7.4</td>\n",
       "      <td>Normal</td>\n",
       "    </tr>\n",
       "    <tr>\n",
       "      <th>City_4</th>\n",
       "      <td>34</td>\n",
       "      <td>23</td>\n",
       "      <td>11.1</td>\n",
       "      <td>Normal</td>\n",
       "    </tr>\n",
       "    <tr>\n",
       "      <th>City_5</th>\n",
       "      <td>35</td>\n",
       "      <td>24</td>\n",
       "      <td>14.8</td>\n",
       "      <td>Normal</td>\n",
       "    </tr>\n",
       "  </tbody>\n",
       "</table>\n",
       "</div>"
      ],
      "text/plain": [
       "        HT  LT    WS      CC\n",
       "City_1  36  23   9.3  Normal\n",
       "City_2  37  22   9.3  Normal\n",
       "City_3  36  21   7.4  Normal\n",
       "City_4  34  23  11.1  Normal\n",
       "City_5  35  24  14.8  Normal"
      ]
     },
     "execution_count": 24,
     "metadata": {},
     "output_type": "execute_result"
    }
   ],
   "source": [
    "df1"
   ]
  },
  {
   "cell_type": "code",
   "execution_count": 25,
   "id": "b0aeb168",
   "metadata": {},
   "outputs": [],
   "source": [
    "df1 = df1.drop('CC', axis=1)"
   ]
  },
  {
   "cell_type": "code",
   "execution_count": 26,
   "id": "db440044",
   "metadata": {},
   "outputs": [
    {
     "data": {
      "text/html": [
       "<div>\n",
       "<style scoped>\n",
       "    .dataframe tbody tr th:only-of-type {\n",
       "        vertical-align: middle;\n",
       "    }\n",
       "\n",
       "    .dataframe tbody tr th {\n",
       "        vertical-align: top;\n",
       "    }\n",
       "\n",
       "    .dataframe thead th {\n",
       "        text-align: right;\n",
       "    }\n",
       "</style>\n",
       "<table border=\"1\" class=\"dataframe\">\n",
       "  <thead>\n",
       "    <tr style=\"text-align: right;\">\n",
       "      <th></th>\n",
       "      <th>HT</th>\n",
       "      <th>LT</th>\n",
       "      <th>WS</th>\n",
       "    </tr>\n",
       "  </thead>\n",
       "  <tbody>\n",
       "    <tr>\n",
       "      <th>City_1</th>\n",
       "      <td>36</td>\n",
       "      <td>23</td>\n",
       "      <td>9.3</td>\n",
       "    </tr>\n",
       "    <tr>\n",
       "      <th>City_2</th>\n",
       "      <td>37</td>\n",
       "      <td>22</td>\n",
       "      <td>9.3</td>\n",
       "    </tr>\n",
       "    <tr>\n",
       "      <th>City_3</th>\n",
       "      <td>36</td>\n",
       "      <td>21</td>\n",
       "      <td>7.4</td>\n",
       "    </tr>\n",
       "    <tr>\n",
       "      <th>City_4</th>\n",
       "      <td>34</td>\n",
       "      <td>23</td>\n",
       "      <td>11.1</td>\n",
       "    </tr>\n",
       "    <tr>\n",
       "      <th>City_5</th>\n",
       "      <td>35</td>\n",
       "      <td>24</td>\n",
       "      <td>14.8</td>\n",
       "    </tr>\n",
       "  </tbody>\n",
       "</table>\n",
       "</div>"
      ],
      "text/plain": [
       "        HT  LT    WS\n",
       "City_1  36  23   9.3\n",
       "City_2  37  22   9.3\n",
       "City_3  36  21   7.4\n",
       "City_4  34  23  11.1\n",
       "City_5  35  24  14.8"
      ]
     },
     "execution_count": 26,
     "metadata": {},
     "output_type": "execute_result"
    }
   ],
   "source": [
    "df1"
   ]
  },
  {
   "cell_type": "markdown",
   "id": "e0d358be",
   "metadata": {},
   "source": [
    "### <font color = green> Dimention and Size"
   ]
  },
  {
   "cell_type": "code",
   "execution_count": 27,
   "id": "e2dd7d9b",
   "metadata": {},
   "outputs": [],
   "source": [
    "# ndim func.\n",
    "\n"
   ]
  },
  {
   "cell_type": "code",
   "execution_count": 28,
   "id": "13337234",
   "metadata": {},
   "outputs": [],
   "source": [
    "#size func.\n",
    "\n"
   ]
  },
  {
   "cell_type": "markdown",
   "id": "4081cc89",
   "metadata": {},
   "source": [
    "### <font color = green> Exporting Dataframe"
   ]
  },
  {
   "cell_type": "code",
   "execution_count": 29,
   "id": "081d4636",
   "metadata": {},
   "outputs": [
    {
     "data": {
      "text/html": [
       "<div>\n",
       "<style scoped>\n",
       "    .dataframe tbody tr th:only-of-type {\n",
       "        vertical-align: middle;\n",
       "    }\n",
       "\n",
       "    .dataframe tbody tr th {\n",
       "        vertical-align: top;\n",
       "    }\n",
       "\n",
       "    .dataframe thead th {\n",
       "        text-align: right;\n",
       "    }\n",
       "</style>\n",
       "<table border=\"1\" class=\"dataframe\">\n",
       "  <thead>\n",
       "    <tr style=\"text-align: right;\">\n",
       "      <th></th>\n",
       "      <th>City</th>\n",
       "      <th>HT</th>\n",
       "      <th>LT</th>\n",
       "    </tr>\n",
       "  </thead>\n",
       "  <tbody>\n",
       "    <tr>\n",
       "      <th>0</th>\n",
       "      <td>City_1</td>\n",
       "      <td>36</td>\n",
       "      <td>23</td>\n",
       "    </tr>\n",
       "    <tr>\n",
       "      <th>1</th>\n",
       "      <td>City_2</td>\n",
       "      <td>37</td>\n",
       "      <td>22</td>\n",
       "    </tr>\n",
       "    <tr>\n",
       "      <th>2</th>\n",
       "      <td>City_3</td>\n",
       "      <td>36</td>\n",
       "      <td>21</td>\n",
       "    </tr>\n",
       "    <tr>\n",
       "      <th>3</th>\n",
       "      <td>City_4</td>\n",
       "      <td>34</td>\n",
       "      <td>23</td>\n",
       "    </tr>\n",
       "    <tr>\n",
       "      <th>4</th>\n",
       "      <td>City_5</td>\n",
       "      <td>35</td>\n",
       "      <td>24</td>\n",
       "    </tr>\n",
       "  </tbody>\n",
       "</table>\n",
       "</div>"
      ],
      "text/plain": [
       "     City  HT  LT\n",
       "0  City_1  36  23\n",
       "1  City_2  37  22\n",
       "2  City_3  36  21\n",
       "3  City_4  34  23\n",
       "4  City_5  35  24"
      ]
     },
     "execution_count": 29,
     "metadata": {},
     "output_type": "execute_result"
    }
   ],
   "source": [
    "df"
   ]
  },
  {
   "cell_type": "code",
   "execution_count": 30,
   "id": "cccc0996",
   "metadata": {},
   "outputs": [],
   "source": [
    "# exporting to csv\n"
   ]
  },
  {
   "cell_type": "code",
   "execution_count": 34,
   "id": "1117c9bf",
   "metadata": {},
   "outputs": [],
   "source": [
    "# without index\n"
   ]
  },
  {
   "cell_type": "code",
   "execution_count": 31,
   "id": "4c9c584e",
   "metadata": {},
   "outputs": [],
   "source": [
    "# exporting to excel\n"
   ]
  },
  {
   "cell_type": "markdown",
   "id": "2748263a",
   "metadata": {},
   "source": [
    "### <font color = green> Loading files into a DataFrame"
   ]
  },
  {
   "cell_type": "code",
   "execution_count": 32,
   "id": "9ed14887",
   "metadata": {},
   "outputs": [],
   "source": [
    "#from same directory"
   ]
  },
  {
   "cell_type": "code",
   "execution_count": 33,
   "id": "245ea9d7",
   "metadata": {},
   "outputs": [],
   "source": [
    "#from different directory"
   ]
  }
 ],
 "metadata": {
  "kernelspec": {
   "display_name": "Python 3 (ipykernel)",
   "language": "python",
   "name": "python3"
  },
  "language_info": {
   "codemirror_mode": {
    "name": "ipython",
    "version": 3
   },
   "file_extension": ".py",
   "mimetype": "text/x-python",
   "name": "python",
   "nbconvert_exporter": "python",
   "pygments_lexer": "ipython3",
   "version": "3.9.13"
  }
 },
 "nbformat": 4,
 "nbformat_minor": 5
}
